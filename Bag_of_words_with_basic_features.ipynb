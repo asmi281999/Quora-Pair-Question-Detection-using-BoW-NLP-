{
  "nbformat": 4,
  "nbformat_minor": 0,
  "metadata": {
    "colab": {
      "name": "Bag-of-words with basic features.ipynb",
      "provenance": []
    },
    "kernelspec": {
      "name": "python3",
      "display_name": "Python 3"
    },
    "language_info": {
      "name": "python"
    }
  },
  "cells": [
    {
      "cell_type": "markdown",
      "source": [
        "# Quora question pair analysis using Bag-of-Words with basic features"
      ],
      "metadata": {
        "id": "8BeowN464d9G"
      }
    },
    {
      "cell_type": "markdown",
      "source": [
        "## Required libraries"
      ],
      "metadata": {
        "id": "Svc7_NAu4p0R"
      }
    },
    {
      "cell_type": "code",
      "execution_count": null,
      "metadata": {
        "id": "oWqPNwok1AV0"
      },
      "outputs": [],
      "source": [
        "import numpy as np\n",
        "import pandas as pd\n",
        "import matplotlib.pyplot as plt\n",
        "import seaborn as sns\n"
      ]
    },
    {
      "cell_type": "code",
      "source": [
        "import warnings \n",
        "warnings.filterwarnings(\"ignore\")"
      ],
      "metadata": {
        "id": "gkDCUEsh4ccP"
      },
      "execution_count": null,
      "outputs": []
    },
    {
      "cell_type": "code",
      "source": [
        "import missingno as msno"
      ],
      "metadata": {
        "id": "aO8PeZC89MPC"
      },
      "execution_count": null,
      "outputs": []
    },
    {
      "cell_type": "code",
      "source": [
        "import re\n",
        "from bs4 import BeautifulSoup\n"
      ],
      "metadata": {
        "id": "8LLaMllYGffk"
      },
      "execution_count": null,
      "outputs": []
    },
    {
      "cell_type": "code",
      "source": [
        "print(\"All the required libraries are imported successfully!\")"
      ],
      "metadata": {
        "colab": {
          "base_uri": "https://localhost:8080/"
        },
        "id": "nF8K9LaC552p",
        "outputId": "10d5d2fa-8cd8-4a8a-ec0a-8a49828f9e03"
      },
      "execution_count": null,
      "outputs": [
        {
          "output_type": "stream",
          "name": "stdout",
          "text": [
            "All the required libraries are imported successfully!\n"
          ]
        }
      ]
    },
    {
      "cell_type": "markdown",
      "source": [
        "## Read the Dataset"
      ],
      "metadata": {
        "id": "lPh5IXFE6E9C"
      }
    },
    {
      "cell_type": "code",
      "source": [
        "!unzip /content/drive/MyDrive/project/dataset.csv.zip"
      ],
      "metadata": {
        "colab": {
          "base_uri": "https://localhost:8080/"
        },
        "id": "TJq-Wkqg6JWn",
        "outputId": "8d1a8675-66b2-48c6-9f3e-da124248396b"
      },
      "execution_count": null,
      "outputs": [
        {
          "output_type": "stream",
          "name": "stdout",
          "text": [
            "Archive:  /content/drive/MyDrive/project/dataset.csv.zip\n",
            "replace dataset.csv? [y]es, [n]o, [A]ll, [N]one, [r]ename: [y]\n",
            "error:  invalid response [[y]]\n",
            "replace dataset.csv? [y]es, [n]o, [A]ll, [N]one, [r]ename: y\n",
            "  inflating: dataset.csv             \n"
          ]
        }
      ]
    },
    {
      "cell_type": "code",
      "source": [
        "url=\"/content/dataset.csv\"\n",
        "data=pd.read_csv(url)\n",
        "print(\"Dataset is read successfully!\")"
      ],
      "metadata": {
        "colab": {
          "base_uri": "https://localhost:8080/"
        },
        "id": "Ps9Bw_cI7CK7",
        "outputId": "020b5606-8282-4fe8-c924-335b532be8c9"
      },
      "execution_count": null,
      "outputs": [
        {
          "output_type": "stream",
          "name": "stdout",
          "text": [
            "Dataset is read successfully!\n"
          ]
        }
      ]
    },
    {
      "cell_type": "code",
      "source": [
        "print(\"The dataset of quora is given by: \")\n",
        "data.head()"
      ],
      "metadata": {
        "colab": {
          "base_uri": "https://localhost:8080/",
          "height": 224
        },
        "id": "2OXnCzU87XDu",
        "outputId": "757b2d14-c0f4-438e-f52c-bfdb8c0fc6bc"
      },
      "execution_count": null,
      "outputs": [
        {
          "output_type": "stream",
          "name": "stdout",
          "text": [
            "The dataset of quora is given by: \n"
          ]
        },
        {
          "output_type": "execute_result",
          "data": {
            "text/plain": [
              "   id  qid1  qid2                                          question1  \\\n",
              "0   0     1     2  What is the step by step guide to invest in sh...   \n",
              "1   1     3     4  What is the story of Kohinoor (Koh-i-Noor) Dia...   \n",
              "2   2     5     6  How can I increase the speed of my internet co...   \n",
              "3   3     7     8  Why am I mentally very lonely? How can I solve...   \n",
              "4   4     9    10  Which one dissolve in water quikly sugar, salt...   \n",
              "\n",
              "                                           question2  is_duplicate  \n",
              "0  What is the step by step guide to invest in sh...             0  \n",
              "1  What would happen if the Indian government sto...             0  \n",
              "2  How can Internet speed be increased by hacking...             0  \n",
              "3  Find the remainder when [math]23^{24}[/math] i...             0  \n",
              "4            Which fish would survive in salt water?             0  "
            ],
            "text/html": [
              "\n",
              "  <div id=\"df-87343612-8a0f-4fc8-9cf0-2e8ffe7b637b\">\n",
              "    <div class=\"colab-df-container\">\n",
              "      <div>\n",
              "<style scoped>\n",
              "    .dataframe tbody tr th:only-of-type {\n",
              "        vertical-align: middle;\n",
              "    }\n",
              "\n",
              "    .dataframe tbody tr th {\n",
              "        vertical-align: top;\n",
              "    }\n",
              "\n",
              "    .dataframe thead th {\n",
              "        text-align: right;\n",
              "    }\n",
              "</style>\n",
              "<table border=\"1\" class=\"dataframe\">\n",
              "  <thead>\n",
              "    <tr style=\"text-align: right;\">\n",
              "      <th></th>\n",
              "      <th>id</th>\n",
              "      <th>qid1</th>\n",
              "      <th>qid2</th>\n",
              "      <th>question1</th>\n",
              "      <th>question2</th>\n",
              "      <th>is_duplicate</th>\n",
              "    </tr>\n",
              "  </thead>\n",
              "  <tbody>\n",
              "    <tr>\n",
              "      <th>0</th>\n",
              "      <td>0</td>\n",
              "      <td>1</td>\n",
              "      <td>2</td>\n",
              "      <td>What is the step by step guide to invest in sh...</td>\n",
              "      <td>What is the step by step guide to invest in sh...</td>\n",
              "      <td>0</td>\n",
              "    </tr>\n",
              "    <tr>\n",
              "      <th>1</th>\n",
              "      <td>1</td>\n",
              "      <td>3</td>\n",
              "      <td>4</td>\n",
              "      <td>What is the story of Kohinoor (Koh-i-Noor) Dia...</td>\n",
              "      <td>What would happen if the Indian government sto...</td>\n",
              "      <td>0</td>\n",
              "    </tr>\n",
              "    <tr>\n",
              "      <th>2</th>\n",
              "      <td>2</td>\n",
              "      <td>5</td>\n",
              "      <td>6</td>\n",
              "      <td>How can I increase the speed of my internet co...</td>\n",
              "      <td>How can Internet speed be increased by hacking...</td>\n",
              "      <td>0</td>\n",
              "    </tr>\n",
              "    <tr>\n",
              "      <th>3</th>\n",
              "      <td>3</td>\n",
              "      <td>7</td>\n",
              "      <td>8</td>\n",
              "      <td>Why am I mentally very lonely? How can I solve...</td>\n",
              "      <td>Find the remainder when [math]23^{24}[/math] i...</td>\n",
              "      <td>0</td>\n",
              "    </tr>\n",
              "    <tr>\n",
              "      <th>4</th>\n",
              "      <td>4</td>\n",
              "      <td>9</td>\n",
              "      <td>10</td>\n",
              "      <td>Which one dissolve in water quikly sugar, salt...</td>\n",
              "      <td>Which fish would survive in salt water?</td>\n",
              "      <td>0</td>\n",
              "    </tr>\n",
              "  </tbody>\n",
              "</table>\n",
              "</div>\n",
              "      <button class=\"colab-df-convert\" onclick=\"convertToInteractive('df-87343612-8a0f-4fc8-9cf0-2e8ffe7b637b')\"\n",
              "              title=\"Convert this dataframe to an interactive table.\"\n",
              "              style=\"display:none;\">\n",
              "        \n",
              "  <svg xmlns=\"http://www.w3.org/2000/svg\" height=\"24px\"viewBox=\"0 0 24 24\"\n",
              "       width=\"24px\">\n",
              "    <path d=\"M0 0h24v24H0V0z\" fill=\"none\"/>\n",
              "    <path d=\"M18.56 5.44l.94 2.06.94-2.06 2.06-.94-2.06-.94-.94-2.06-.94 2.06-2.06.94zm-11 1L8.5 8.5l.94-2.06 2.06-.94-2.06-.94L8.5 2.5l-.94 2.06-2.06.94zm10 10l.94 2.06.94-2.06 2.06-.94-2.06-.94-.94-2.06-.94 2.06-2.06.94z\"/><path d=\"M17.41 7.96l-1.37-1.37c-.4-.4-.92-.59-1.43-.59-.52 0-1.04.2-1.43.59L10.3 9.45l-7.72 7.72c-.78.78-.78 2.05 0 2.83L4 21.41c.39.39.9.59 1.41.59.51 0 1.02-.2 1.41-.59l7.78-7.78 2.81-2.81c.8-.78.8-2.07 0-2.86zM5.41 20L4 18.59l7.72-7.72 1.47 1.35L5.41 20z\"/>\n",
              "  </svg>\n",
              "      </button>\n",
              "      \n",
              "  <style>\n",
              "    .colab-df-container {\n",
              "      display:flex;\n",
              "      flex-wrap:wrap;\n",
              "      gap: 12px;\n",
              "    }\n",
              "\n",
              "    .colab-df-convert {\n",
              "      background-color: #E8F0FE;\n",
              "      border: none;\n",
              "      border-radius: 50%;\n",
              "      cursor: pointer;\n",
              "      display: none;\n",
              "      fill: #1967D2;\n",
              "      height: 32px;\n",
              "      padding: 0 0 0 0;\n",
              "      width: 32px;\n",
              "    }\n",
              "\n",
              "    .colab-df-convert:hover {\n",
              "      background-color: #E2EBFA;\n",
              "      box-shadow: 0px 1px 2px rgba(60, 64, 67, 0.3), 0px 1px 3px 1px rgba(60, 64, 67, 0.15);\n",
              "      fill: #174EA6;\n",
              "    }\n",
              "\n",
              "    [theme=dark] .colab-df-convert {\n",
              "      background-color: #3B4455;\n",
              "      fill: #D2E3FC;\n",
              "    }\n",
              "\n",
              "    [theme=dark] .colab-df-convert:hover {\n",
              "      background-color: #434B5C;\n",
              "      box-shadow: 0px 1px 3px 1px rgba(0, 0, 0, 0.15);\n",
              "      filter: drop-shadow(0px 1px 2px rgba(0, 0, 0, 0.3));\n",
              "      fill: #FFFFFF;\n",
              "    }\n",
              "  </style>\n",
              "\n",
              "      <script>\n",
              "        const buttonEl =\n",
              "          document.querySelector('#df-87343612-8a0f-4fc8-9cf0-2e8ffe7b637b button.colab-df-convert');\n",
              "        buttonEl.style.display =\n",
              "          google.colab.kernel.accessAllowed ? 'block' : 'none';\n",
              "\n",
              "        async function convertToInteractive(key) {\n",
              "          const element = document.querySelector('#df-87343612-8a0f-4fc8-9cf0-2e8ffe7b637b');\n",
              "          const dataTable =\n",
              "            await google.colab.kernel.invokeFunction('convertToInteractive',\n",
              "                                                     [key], {});\n",
              "          if (!dataTable) return;\n",
              "\n",
              "          const docLinkHtml = 'Like what you see? Visit the ' +\n",
              "            '<a target=\"_blank\" href=https://colab.research.google.com/notebooks/data_table.ipynb>data table notebook</a>'\n",
              "            + ' to learn more about interactive tables.';\n",
              "          element.innerHTML = '';\n",
              "          dataTable['output_type'] = 'display_data';\n",
              "          await google.colab.output.renderOutput(dataTable, element);\n",
              "          const docLink = document.createElement('div');\n",
              "          docLink.innerHTML = docLinkHtml;\n",
              "          element.appendChild(docLink);\n",
              "        }\n",
              "      </script>\n",
              "    </div>\n",
              "  </div>\n",
              "  "
            ]
          },
          "metadata": {},
          "execution_count": 9
        }
      ]
    },
    {
      "cell_type": "markdown",
      "source": [
        "## Details of the dataset"
      ],
      "metadata": {
        "id": "c8d1vpWn7mrb"
      }
    },
    {
      "cell_type": "markdown",
      "source": [
        "### 1. No of rows and columns"
      ],
      "metadata": {
        "id": "1aNMftRd7-sb"
      }
    },
    {
      "cell_type": "code",
      "source": [
        "rows=data.shape[0]\n",
        "columns=data.shape[1]\n",
        "\n",
        "print(\"The total number of rows in the above dataset is: \",rows)\n",
        "\n",
        "\n",
        "print(\"\\n The total number of columns in the above dataset is: \",columns)\n",
        "\n",
        "\n",
        "shape=data.shape\n",
        "print(\"\\nTherefore, the shape of the dataset is: \")\n",
        "print(shape)"
      ],
      "metadata": {
        "colab": {
          "base_uri": "https://localhost:8080/"
        },
        "id": "0KxwGAaz7ukU",
        "outputId": "77e06cb8-0735-44cd-c643-6211d3a68922"
      },
      "execution_count": null,
      "outputs": [
        {
          "output_type": "stream",
          "name": "stdout",
          "text": [
            "The total number of rows in the above dataset is:  404290\n",
            "\n",
            " The total number of columns in the above dataset is:  6\n",
            "\n",
            "Therefore, the shape of the dataset is: \n",
            "(404290, 6)\n"
          ]
        }
      ]
    },
    {
      "cell_type": "markdown",
      "source": [
        "### 2. Name of the columns "
      ],
      "metadata": {
        "id": "tOxtB6lz8Clj"
      }
    },
    {
      "cell_type": "code",
      "source": [
        "col_names=data.columns.values                   \n",
        "print(\"Indexes of the dataset: \\n \\n\", col_names)"
      ],
      "metadata": {
        "colab": {
          "base_uri": "https://localhost:8080/"
        },
        "id": "6cSbs99S8H-Y",
        "outputId": "5e2b38e0-5054-45a2-f2c3-c846328e38e2"
      },
      "execution_count": null,
      "outputs": [
        {
          "output_type": "stream",
          "name": "stdout",
          "text": [
            "Indexes of the dataset: \n",
            " \n",
            " ['id' 'qid1' 'qid2' 'question1' 'question2' 'is_duplicate']\n"
          ]
        }
      ]
    },
    {
      "cell_type": "markdown",
      "source": [
        "### 3.Datatypes "
      ],
      "metadata": {
        "id": "_xDZFARM8liM"
      }
    },
    {
      "cell_type": "code",
      "source": [
        "print(\"The information of the given dataset is given by: \\n\")\n",
        "data.info()\n"
      ],
      "metadata": {
        "colab": {
          "base_uri": "https://localhost:8080/"
        },
        "id": "WzP1Nmk28p87",
        "outputId": "995fa1c9-8058-45b9-bce5-44a057cb6624"
      },
      "execution_count": null,
      "outputs": [
        {
          "output_type": "stream",
          "name": "stdout",
          "text": [
            "The information of the given dataset is given by: \n",
            "\n",
            "<class 'pandas.core.frame.DataFrame'>\n",
            "RangeIndex: 404290 entries, 0 to 404289\n",
            "Data columns (total 6 columns):\n",
            " #   Column        Non-Null Count   Dtype \n",
            "---  ------        --------------   ----- \n",
            " 0   id            404290 non-null  int64 \n",
            " 1   qid1          404290 non-null  int64 \n",
            " 2   qid2          404290 non-null  int64 \n",
            " 3   question1     404289 non-null  object\n",
            " 4   question2     404288 non-null  object\n",
            " 5   is_duplicate  404290 non-null  int64 \n",
            "dtypes: int64(4), object(2)\n",
            "memory usage: 18.5+ MB\n"
          ]
        }
      ]
    },
    {
      "cell_type": "markdown",
      "source": [
        "### 4. Null value"
      ],
      "metadata": {
        "id": "Y8dyV0Mo8vVv"
      }
    },
    {
      "cell_type": "code",
      "source": [
        "data.isnull().sum()"
      ],
      "metadata": {
        "colab": {
          "base_uri": "https://localhost:8080/"
        },
        "id": "hqAz7Vnm84uv",
        "outputId": "76c0f627-f1e5-49fc-dc5e-78f3822b944c"
      },
      "execution_count": null,
      "outputs": [
        {
          "output_type": "execute_result",
          "data": {
            "text/plain": [
              "id              0\n",
              "qid1            0\n",
              "qid2            0\n",
              "question1       1\n",
              "question2       2\n",
              "is_duplicate    0\n",
              "dtype: int64"
            ]
          },
          "metadata": {},
          "execution_count": 13
        }
      ]
    },
    {
      "cell_type": "code",
      "source": [
        "msno.bar(data)\n",
        "plt.show()"
      ],
      "metadata": {
        "colab": {
          "base_uri": "https://localhost:8080/",
          "height": 721
        },
        "id": "zGrByLNQ9RaT",
        "outputId": "4d8ab529-6853-4962-b1f2-9c3294aaf819"
      },
      "execution_count": null,
      "outputs": [
        {
          "output_type": "display_data",
          "data": {
            "text/plain": [
              "<Figure size 1800x720 with 3 Axes>"
            ],
            "image/png": "[encoded data removed]"
          },
          "metadata": {
            "needs_background": "light"
          }
        }
      ]
    },
    {
      "cell_type": "code",
      "source": [
        "msno.matrix(data)\n",
        "plt.show()"
      ],
      "metadata": {
        "colab": {
          "base_uri": "https://localhost:8080/",
          "height": 672
        },
        "id": "Gm0M7Dvo9mhl",
        "outputId": "c31616dd-d213-4d19-ae02-e3d43ba6c896"
      },
      "execution_count": null,
      "outputs": [
        {
          "output_type": "display_data",
          "data": {
            "text/plain": [
              "<Figure size 1800x720 with 2 Axes>"
            ],
            "image/png": "[encoded data removed]"
          },
          "metadata": {
            "needs_background": "light"
          }
        }
      ]
    },
    {
      "cell_type": "code",
      "source": [
        "msno.dendrogram(data)\n",
        "plt.show()"
      ],
      "metadata": {
        "colab": {
          "base_uri": "https://localhost:8080/",
          "height": 660
        },
        "id": "jXGSL3KM9u1T",
        "outputId": "d9568b54-1b62-446f-c038-be365d6c5887"
      },
      "execution_count": null,
      "outputs": [
        {
          "output_type": "display_data",
          "data": {
            "text/plain": [
              "<Figure size 1800x720 with 1 Axes>"
            ],
            "image/png": "[encoded data removed]"
          },
          "metadata": {
            "needs_background": "light"
          }
        }
      ]
    },
    {
      "cell_type": "markdown",
      "source": [
        "# Analysis using BoW without Preprocessing i.e BoW with basic features "
      ],
      "metadata": {
        "id": "cpSymBI7djlh"
      }
    },
    {
      "cell_type": "markdown",
      "source": [
        "## 1. EDA"
      ],
      "metadata": {
        "id": "rHe8e8dxB9PO"
      }
    },
    {
      "cell_type": "markdown",
      "source": [
        "### 1.Duplicate Rows"
      ],
      "metadata": {
        "id": "aK6Mhisf-dHH"
      }
    },
    {
      "cell_type": "code",
      "source": [
        "data.duplicated().sum()"
      ],
      "metadata": {
        "colab": {
          "base_uri": "https://localhost:8080/"
        },
        "id": "zrrGShBo-kdk",
        "outputId": "aacb57a0-f4a3-43b3-c585-36672d327c1f"
      },
      "execution_count": null,
      "outputs": [
        {
          "output_type": "execute_result",
          "data": {
            "text/plain": [
              "0"
            ]
          },
          "metadata": {},
          "execution_count": 17
        }
      ]
    },
    {
      "cell_type": "markdown",
      "source": [
        "### 2.Distribution of duplicate and non duplicate questions\n",
        "\n",
        "\n",
        "\n"
      ],
      "metadata": {
        "id": "uAFH4HFV_iXS"
      }
    },
    {
      "cell_type": "code",
      "source": [
        "tol=data[\"is_duplicate\"].value_counts()\n",
        "tol_1=data[\"is_duplicate\"].count()\n",
        "per=(tol/tol_1)*100"
      ],
      "metadata": {
        "id": "zKYOfW5p_q6q"
      },
      "execution_count": null,
      "outputs": []
    },
    {
      "cell_type": "code",
      "source": [
        "print(\"The total of duplicate and non duplicate values are: \\n\")\n",
        "print(tol)"
      ],
      "metadata": {
        "colab": {
          "base_uri": "https://localhost:8080/"
        },
        "id": "z0nmX0tRAd4n",
        "outputId": "8e7d9116-596e-4844-d19c-98d02b20d7cb"
      },
      "execution_count": null,
      "outputs": [
        {
          "output_type": "stream",
          "name": "stdout",
          "text": [
            "The total of duplicate and non duplicate values are: \n",
            "\n",
            "0    255027\n",
            "1    149263\n",
            "Name: is_duplicate, dtype: int64\n"
          ]
        }
      ]
    },
    {
      "cell_type": "code",
      "source": [
        "print(\"The percentage of duplicate and non duplicate values are: \\n\")\n",
        "print(per)"
      ],
      "metadata": {
        "colab": {
          "base_uri": "https://localhost:8080/"
        },
        "id": "yl2j2u7KAyf7",
        "outputId": "d349f968-cc8e-4842-c2b8-e546f48da309"
      },
      "execution_count": null,
      "outputs": [
        {
          "output_type": "stream",
          "name": "stdout",
          "text": [
            "The percentage of duplicate and non duplicate values are: \n",
            "\n",
            "0    63.080215\n",
            "1    36.919785\n",
            "Name: is_duplicate, dtype: float64\n"
          ]
        }
      ]
    },
    {
      "cell_type": "code",
      "source": [
        "tol.plot(kind= \"bar\", \n",
        "       figsize =(8,5),\n",
        "       color= \"darkblue\",\n",
        "       width=0.5\n",
        "      )\n",
        "\n",
        "plt.title(\"Bar diagram of the total of duplicate and non duplicate values\" ,\n",
        "          size= 20,\n",
        "          color=\"Maroon\"\n",
        "         )\n",
        "\n",
        "plt.xlabel(\"is_duplicate\",\n",
        "            size = 25\n",
        "          )\n",
        "\n",
        "plt.ylabel(\"total number\",\n",
        "           size=25\n",
        "          )\n",
        "\n",
        "plt.show()"
      ],
      "metadata": {
        "colab": {
          "base_uri": "https://localhost:8080/",
          "height": 366
        },
        "id": "4HwX_P1-CBZj",
        "outputId": "1eeb1b2f-bc74-4431-d212-0f11dc7982ea"
      },
      "execution_count": null,
      "outputs": [
        {
          "output_type": "display_data",
          "data": {
            "text/plain": [
              "<Figure size 576x360 with 1 Axes>"
            ],
            "image/png": "[encoded data removed]"
          },
          "metadata": {
            "needs_background": "light"
          }
        }
      ]
    },
    {
      "cell_type": "markdown",
      "source": [
        "##### Here we can see that the given dataset is not balanced and it is biased towards class 0."
      ],
      "metadata": {
        "id": "O8tKYf5wGM9p"
      }
    },
    {
      "cell_type": "markdown",
      "source": [
        "### 3.Repeated questions"
      ],
      "metadata": {
        "id": "WogOA9Q9G723"
      }
    },
    {
      "cell_type": "code",
      "source": [
        "qid=pd.Series(data[\"qid1\"].tolist()+data[\"qid2\"].tolist())\n",
        "un=np.unique(qid).shape[0]\n",
        "x=qid.value_counts()>1"
      ],
      "metadata": {
        "id": "BlBkaCZxGMRX"
      },
      "execution_count": null,
      "outputs": []
    },
    {
      "cell_type": "markdown",
      "source": [
        "#### A. Table"
      ],
      "metadata": {
        "id": "PE7qn01GIhEE"
      }
    },
    {
      "cell_type": "code",
      "source": [
        "print(\"Number of unique questions:   \", un)\n",
        "print(\"Number of questions getting repeated:  \",x[x].shape[0])"
      ],
      "metadata": {
        "colab": {
          "base_uri": "https://localhost:8080/"
        },
        "id": "WfT0bjpoIouF",
        "outputId": "2dfd979c-e2b4-4444-c9f5-d1511f4e9998"
      },
      "execution_count": null,
      "outputs": [
        {
          "output_type": "stream",
          "name": "stdout",
          "text": [
            "Number of unique questions:    537933\n",
            "Number of questions getting repeated:   111780\n"
          ]
        }
      ]
    },
    {
      "cell_type": "markdown",
      "source": [
        "#### B.Histogram"
      ],
      "metadata": {
        "id": "N8WDP6LlJpg2"
      }
    },
    {
      "cell_type": "code",
      "source": [
        "plt.figure(figsize=[8,5])\n",
        "plt.hist(x=qid.value_counts().values,\n",
        "         bins=160,\n",
        "         color='#00FF00',\n",
        "         alpha=0.7, \n",
        "         rwidth=0.85)\n",
        "        \n",
        "plt.yscale('log')\n",
        "\n",
        "plt.title(\"Histogram of the total of repeated questions\" ,\n",
        "          size= 20,\n",
        "          color=\"Maroon\"\n",
        "         )\n",
        "\n",
        "plt.xlabel(\"number of repeated questions\",\n",
        "            size = 25\n",
        "          )\n",
        "\n",
        "plt.ylabel(\"log\",\n",
        "           size=25\n",
        "          )\n",
        "\n",
        "plt.show()"
      ],
      "metadata": {
        "colab": {
          "base_uri": "https://localhost:8080/",
          "height": 369
        },
        "id": "SX9GE-LjJomA",
        "outputId": "9c173ac0-0e2d-4c95-9e47-b7d0f6879231"
      },
      "execution_count": null,
      "outputs": [
        {
          "output_type": "display_data",
          "data": {
            "text/plain": [
              "<Figure size 576x360 with 1 Axes>"
            ],
            "image/png": "[encoded data removed]"
          },
          "metadata": {
            "needs_background": "light"
          }
        }
      ]
    },
    {
      "cell_type": "markdown",
      "source": [
        "## BASIC FEATURES: (before cleening)\n",
        "\n",
        "Let's now construct a few features like:\n",
        "\n",
        "*   **qs1_len** = Length of question1\t\n",
        "*   **qs2_len** = Length of question2\n",
        "*   **qs1_num_words** = Number of words in Question 1\n",
        "*   **q2_num_words** = Number of words in Question 2\n",
        "*   **word_Common** = (Number of common unique words in Question 1 and Question 2)\n",
        "*  **word_Total** =(Total num of words in Question 1 + Total num of words in Question 2)\n",
        "*   **word_share** = (word_common)/(word_Total)\n",
        "\n",
        "\n",
        "\n",
        "\n",
        "\n",
        "\n"
      ],
      "metadata": {
        "id": "cNZtC5KTYWvt"
      }
    },
    {
      "cell_type": "markdown",
      "source": [
        "## 2. Features Engineering "
      ],
      "metadata": {
        "id": "CEtn2HqIdESO"
      }
    },
    {
      "cell_type": "code",
      "source": [
        "new_data=data.sample(30000,random_state=2)"
      ],
      "metadata": {
        "id": "iBboDb3e_OTm"
      },
      "execution_count": null,
      "outputs": []
    },
    {
      "cell_type": "code",
      "source": [
        "print(\"New sampled data is selected successfully!! \")"
      ],
      "metadata": {
        "colab": {
          "base_uri": "https://localhost:8080/"
        },
        "id": "10FIiupaewUx",
        "outputId": "1f986148-2118-4b1e-ba1d-135fd206d83d"
      },
      "execution_count": null,
      "outputs": [
        {
          "output_type": "stream",
          "name": "stdout",
          "text": [
            "New sampled data is selected successfully!! \n"
          ]
        }
      ]
    },
    {
      "cell_type": "code",
      "source": [
        "print(\"The new Sampled data is given by: \")\n",
        "new_data.head(10)"
      ],
      "metadata": {
        "colab": {
          "base_uri": "https://localhost:8080/",
          "height": 380
        },
        "id": "JKFVTHKre6Vx",
        "outputId": "51cb9617-8e76-4bb0-c1bd-466a1d78b89f"
      },
      "execution_count": null,
      "outputs": [
        {
          "output_type": "stream",
          "name": "stdout",
          "text": [
            "The new Sampled data is given by: \n"
          ]
        },
        {
          "output_type": "execute_result",
          "data": {
            "text/plain": [
              "            id    qid1    qid2  \\\n",
              "398782  398782  496695  532029   \n",
              "115086  115086  187729  187730   \n",
              "327711  327711  454161  454162   \n",
              "367788  367788  498109  491396   \n",
              "151235  151235  237843   50930   \n",
              "244531  244531  145041  264664   \n",
              "16633    16633   31698   31699   \n",
              "396316  396316  529365  529366   \n",
              "399493  399493  532771  456968   \n",
              "15268    15268   29183   29184   \n",
              "\n",
              "                                                question1  \\\n",
              "398782  What is the best marketing automation tool for...   \n",
              "115086  I am poor but I want to invest. What should I do?   \n",
              "327711  I am from India and live abroad. I met a guy f...   \n",
              "367788  Why do so many people in the U.S. hate the sou...   \n",
              "151235                Consequences of Bhopal gas tragedy?   \n",
              "244531  I killed a snake on a Friday. There's a belief...   \n",
              "16633   Is the royal family a net gain or a net loss t...   \n",
              "396316  If a huge asteroid was about to hit Earth in X...   \n",
              "399493          What would happen if a woman took Viagra?   \n",
              "15268       How could I improve my love to my girlfriend?   \n",
              "\n",
              "                                                question2  is_duplicate  \n",
              "398782  What is the best marketing automation tool for...             1  \n",
              "115086  I am quite poor and I want to be very rich. Wh...             0  \n",
              "327711  T.I.E.T to Thapar University to Thapar Univers...             0  \n",
              "367788  My boyfriend doesnt feel guilty when he hurts ...             0  \n",
              "151235  What was the reason behind the Bhopal gas trag...             0  \n",
              "244531                     Do snakes really take revenge?             0  \n",
              "16633   Why does the British royal family think it's O...             0  \n",
              "396316  A 100-mile-wide asteroid is projected to hit E...             0  \n",
              "399493                           Does Viagra really work?             0  \n",
              "15268   How do I improve my relationship with my girlf...             0  "
            ],
            "text/html": [
              "\n",
              "  <div id=\"df-7be7d979-e36a-4dcb-a5d5-8a1208e10024\">\n",
              "    <div class=\"colab-df-container\">\n",
              "      <div>\n",
              "<style scoped>\n",
              "    .dataframe tbody tr th:only-of-type {\n",
              "        vertical-align: middle;\n",
              "    }\n",
              "\n",
              "    .dataframe tbody tr th {\n",
              "        vertical-align: top;\n",
              "    }\n",
              "\n",
              "    .dataframe thead th {\n",
              "        text-align: right;\n",
              "    }\n",
              "</style>\n",
              "<table border=\"1\" class=\"dataframe\">\n",
              "  <thead>\n",
              "    <tr style=\"text-align: right;\">\n",
              "      <th></th>\n",
              "      <th>id</th>\n",
              "      <th>qid1</th>\n",
              "      <th>qid2</th>\n",
              "      <th>question1</th>\n",
              "      <th>question2</th>\n",
              "      <th>is_duplicate</th>\n",
              "    </tr>\n",
              "  </thead>\n",
              "  <tbody>\n",
              "    <tr>\n",
              "      <th>398782</th>\n",
              "      <td>398782</td>\n",
              "      <td>496695</td>\n",
              "      <td>532029</td>\n",
              "      <td>What is the best marketing automation tool for...</td>\n",
              "      <td>What is the best marketing automation tool for...</td>\n",
              "      <td>1</td>\n",
              "    </tr>\n",
              "    <tr>\n",
              "      <th>115086</th>\n",
              "      <td>115086</td>\n",
              "      <td>187729</td>\n",
              "      <td>187730</td>\n",
              "      <td>I am poor but I want to invest. What should I do?</td>\n",
              "      <td>I am quite poor and I want to be very rich. Wh...</td>\n",
              "      <td>0</td>\n",
              "    </tr>\n",
              "    <tr>\n",
              "      <th>327711</th>\n",
              "      <td>327711</td>\n",
              "      <td>454161</td>\n",
              "      <td>454162</td>\n",
              "      <td>I am from India and live abroad. I met a guy f...</td>\n",
              "      <td>T.I.E.T to Thapar University to Thapar Univers...</td>\n",
              "      <td>0</td>\n",
              "    </tr>\n",
              "    <tr>\n",
              "      <th>367788</th>\n",
              "      <td>367788</td>\n",
              "      <td>498109</td>\n",
              "      <td>491396</td>\n",
              "      <td>Why do so many people in the U.S. hate the sou...</td>\n",
              "      <td>My boyfriend doesnt feel guilty when he hurts ...</td>\n",
              "      <td>0</td>\n",
              "    </tr>\n",
              "    <tr>\n",
              "      <th>151235</th>\n",
              "      <td>151235</td>\n",
              "      <td>237843</td>\n",
              "      <td>50930</td>\n",
              "      <td>Consequences of Bhopal gas tragedy?</td>\n",
              "      <td>What was the reason behind the Bhopal gas trag...</td>\n",
              "      <td>0</td>\n",
              "    </tr>\n",
              "    <tr>\n",
              "      <th>244531</th>\n",
              "      <td>244531</td>\n",
              "      <td>145041</td>\n",
              "      <td>264664</td>\n",
              "      <td>I killed a snake on a Friday. There's a belief...</td>\n",
              "      <td>Do snakes really take revenge?</td>\n",
              "      <td>0</td>\n",
              "    </tr>\n",
              "    <tr>\n",
              "      <th>16633</th>\n",
              "      <td>16633</td>\n",
              "      <td>31698</td>\n",
              "      <td>31699</td>\n",
              "      <td>Is the royal family a net gain or a net loss t...</td>\n",
              "      <td>Why does the British royal family think it's O...</td>\n",
              "      <td>0</td>\n",
              "    </tr>\n",
              "    <tr>\n",
              "      <th>396316</th>\n",
              "      <td>396316</td>\n",
              "      <td>529365</td>\n",
              "      <td>529366</td>\n",
              "      <td>If a huge asteroid was about to hit Earth in X...</td>\n",
              "      <td>A 100-mile-wide asteroid is projected to hit E...</td>\n",
              "      <td>0</td>\n",
              "    </tr>\n",
              "    <tr>\n",
              "      <th>399493</th>\n",
              "      <td>399493</td>\n",
              "      <td>532771</td>\n",
              "      <td>456968</td>\n",
              "      <td>What would happen if a woman took Viagra?</td>\n",
              "      <td>Does Viagra really work?</td>\n",
              "      <td>0</td>\n",
              "    </tr>\n",
              "    <tr>\n",
              "      <th>15268</th>\n",
              "      <td>15268</td>\n",
              "      <td>29183</td>\n",
              "      <td>29184</td>\n",
              "      <td>How could I improve my love to my girlfriend?</td>\n",
              "      <td>How do I improve my relationship with my girlf...</td>\n",
              "      <td>0</td>\n",
              "    </tr>\n",
              "  </tbody>\n",
              "</table>\n",
              "</div>\n",
              "      <button class=\"colab-df-convert\" onclick=\"convertToInteractive('df-7be7d979-e36a-4dcb-a5d5-8a1208e10024')\"\n",
              "              title=\"Convert this dataframe to an interactive table.\"\n",
              "              style=\"display:none;\">\n",
              "        \n",
              "  <svg xmlns=\"http://www.w3.org/2000/svg\" height=\"24px\"viewBox=\"0 0 24 24\"\n",
              "       width=\"24px\">\n",
              "    <path d=\"M0 0h24v24H0V0z\" fill=\"none\"/>\n",
              "    <path d=\"M18.56 5.44l.94 2.06.94-2.06 2.06-.94-2.06-.94-.94-2.06-.94 2.06-2.06.94zm-11 1L8.5 8.5l.94-2.06 2.06-.94-2.06-.94L8.5 2.5l-.94 2.06-2.06.94zm10 10l.94 2.06.94-2.06 2.06-.94-2.06-.94-.94-2.06-.94 2.06-2.06.94z\"/><path d=\"M17.41 7.96l-1.37-1.37c-.4-.4-.92-.59-1.43-.59-.52 0-1.04.2-1.43.59L10.3 9.45l-7.72 7.72c-.78.78-.78 2.05 0 2.83L4 21.41c.39.39.9.59 1.41.59.51 0 1.02-.2 1.41-.59l7.78-7.78 2.81-2.81c.8-.78.8-2.07 0-2.86zM5.41 20L4 18.59l7.72-7.72 1.47 1.35L5.41 20z\"/>\n",
              "  </svg>\n",
              "      </button>\n",
              "      \n",
              "  <style>\n",
              "    .colab-df-container {\n",
              "      display:flex;\n",
              "      flex-wrap:wrap;\n",
              "      gap: 12px;\n",
              "    }\n",
              "\n",
              "    .colab-df-convert {\n",
              "      background-color: #E8F0FE;\n",
              "      border: none;\n",
              "      border-radius: 50%;\n",
              "      cursor: pointer;\n",
              "      display: none;\n",
              "      fill: #1967D2;\n",
              "      height: 32px;\n",
              "      padding: 0 0 0 0;\n",
              "      width: 32px;\n",
              "    }\n",
              "\n",
              "    .colab-df-convert:hover {\n",
              "      background-color: #E2EBFA;\n",
              "      box-shadow: 0px 1px 2px rgba(60, 64, 67, 0.3), 0px 1px 3px 1px rgba(60, 64, 67, 0.15);\n",
              "      fill: #174EA6;\n",
              "    }\n",
              "\n",
              "    [theme=dark] .colab-df-convert {\n",
              "      background-color: #3B4455;\n",
              "      fill: #D2E3FC;\n",
              "    }\n",
              "\n",
              "    [theme=dark] .colab-df-convert:hover {\n",
              "      background-color: #434B5C;\n",
              "      box-shadow: 0px 1px 3px 1px rgba(0, 0, 0, 0.15);\n",
              "      filter: drop-shadow(0px 1px 2px rgba(0, 0, 0, 0.3));\n",
              "      fill: #FFFFFF;\n",
              "    }\n",
              "  </style>\n",
              "\n",
              "      <script>\n",
              "        const buttonEl =\n",
              "          document.querySelector('#df-7be7d979-e36a-4dcb-a5d5-8a1208e10024 button.colab-df-convert');\n",
              "        buttonEl.style.display =\n",
              "          google.colab.kernel.accessAllowed ? 'block' : 'none';\n",
              "\n",
              "        async function convertToInteractive(key) {\n",
              "          const element = document.querySelector('#df-7be7d979-e36a-4dcb-a5d5-8a1208e10024');\n",
              "          const dataTable =\n",
              "            await google.colab.kernel.invokeFunction('convertToInteractive',\n",
              "                                                     [key], {});\n",
              "          if (!dataTable) return;\n",
              "\n",
              "          const docLinkHtml = 'Like what you see? Visit the ' +\n",
              "            '<a target=\"_blank\" href=https://colab.research.google.com/notebooks/data_table.ipynb>data table notebook</a>'\n",
              "            + ' to learn more about interactive tables.';\n",
              "          element.innerHTML = '';\n",
              "          dataTable['output_type'] = 'display_data';\n",
              "          await google.colab.output.renderOutput(dataTable, element);\n",
              "          const docLink = document.createElement('div');\n",
              "          docLink.innerHTML = docLinkHtml;\n",
              "          element.appendChild(docLink);\n",
              "        }\n",
              "      </script>\n",
              "    </div>\n",
              "  </div>\n",
              "  "
            ]
          },
          "metadata": {},
          "execution_count": 27
        }
      ]
    },
    {
      "cell_type": "markdown",
      "source": [
        "### 1. Length of the questions calculation"
      ],
      "metadata": {
        "id": "2nMWbKQ-n30i"
      }
    },
    {
      "cell_type": "code",
      "source": [
        "new_data[\"qs1_len\"]=new_data[\"question1\"].str.len()\n",
        "new_data[\"qs2_len\"]=new_data[\"question2\"].str.len()\n"
      ],
      "metadata": {
        "id": "GlVIohEu_Ob7"
      },
      "execution_count": null,
      "outputs": []
    },
    {
      "cell_type": "code",
      "source": [
        "print(\"After adding 2 new columns the dataset looks like: \")\n",
        "new_data.head()"
      ],
      "metadata": {
        "colab": {
          "base_uri": "https://localhost:8080/",
          "height": 224
        },
        "id": "LOx2uoM9_Ohb",
        "outputId": "5f43df01-8aaa-4463-a1cf-2064e971dfef"
      },
      "execution_count": null,
      "outputs": [
        {
          "output_type": "stream",
          "name": "stdout",
          "text": [
            "After adding 2 new columns the dataset looks like: \n"
          ]
        },
        {
          "output_type": "execute_result",
          "data": {
            "text/plain": [
              "            id    qid1    qid2  \\\n",
              "398782  398782  496695  532029   \n",
              "115086  115086  187729  187730   \n",
              "327711  327711  454161  454162   \n",
              "367788  367788  498109  491396   \n",
              "151235  151235  237843   50930   \n",
              "\n",
              "                                                question1  \\\n",
              "398782  What is the best marketing automation tool for...   \n",
              "115086  I am poor but I want to invest. What should I do?   \n",
              "327711  I am from India and live abroad. I met a guy f...   \n",
              "367788  Why do so many people in the U.S. hate the sou...   \n",
              "151235                Consequences of Bhopal gas tragedy?   \n",
              "\n",
              "                                                question2  is_duplicate  \\\n",
              "398782  What is the best marketing automation tool for...             1   \n",
              "115086  I am quite poor and I want to be very rich. Wh...             0   \n",
              "327711  T.I.E.T to Thapar University to Thapar Univers...             0   \n",
              "367788  My boyfriend doesnt feel guilty when he hurts ...             0   \n",
              "151235  What was the reason behind the Bhopal gas trag...             0   \n",
              "\n",
              "        qs1_len  qs2_len  \n",
              "398782       76       77  \n",
              "115086       49       57  \n",
              "327711      105      120  \n",
              "367788       59      146  \n",
              "151235       35       50  "
            ],
            "text/html": [
              "\n",
              "  <div id=\"df-398287a9-6b9c-43bd-befb-b133e9e8e4dc\">\n",
              "    <div class=\"colab-df-container\">\n",
              "      <div>\n",
              "<style scoped>\n",
              "    .dataframe tbody tr th:only-of-type {\n",
              "        vertical-align: middle;\n",
              "    }\n",
              "\n",
              "    .dataframe tbody tr th {\n",
              "        vertical-align: top;\n",
              "    }\n",
              "\n",
              "    .dataframe thead th {\n",
              "        text-align: right;\n",
              "    }\n",
              "</style>\n",
              "<table border=\"1\" class=\"dataframe\">\n",
              "  <thead>\n",
              "    <tr style=\"text-align: right;\">\n",
              "      <th></th>\n",
              "      <th>id</th>\n",
              "      <th>qid1</th>\n",
              "      <th>qid2</th>\n",
              "      <th>question1</th>\n",
              "      <th>question2</th>\n",
              "      <th>is_duplicate</th>\n",
              "      <th>qs1_len</th>\n",
              "      <th>qs2_len</th>\n",
              "    </tr>\n",
              "  </thead>\n",
              "  <tbody>\n",
              "    <tr>\n",
              "      <th>398782</th>\n",
              "      <td>398782</td>\n",
              "      <td>496695</td>\n",
              "      <td>532029</td>\n",
              "      <td>What is the best marketing automation tool for...</td>\n",
              "      <td>What is the best marketing automation tool for...</td>\n",
              "      <td>1</td>\n",
              "      <td>76</td>\n",
              "      <td>77</td>\n",
              "    </tr>\n",
              "    <tr>\n",
              "      <th>115086</th>\n",
              "      <td>115086</td>\n",
              "      <td>187729</td>\n",
              "      <td>187730</td>\n",
              "      <td>I am poor but I want to invest. What should I do?</td>\n",
              "      <td>I am quite poor and I want to be very rich. Wh...</td>\n",
              "      <td>0</td>\n",
              "      <td>49</td>\n",
              "      <td>57</td>\n",
              "    </tr>\n",
              "    <tr>\n",
              "      <th>327711</th>\n",
              "      <td>327711</td>\n",
              "      <td>454161</td>\n",
              "      <td>454162</td>\n",
              "      <td>I am from India and live abroad. I met a guy f...</td>\n",
              "      <td>T.I.E.T to Thapar University to Thapar Univers...</td>\n",
              "      <td>0</td>\n",
              "      <td>105</td>\n",
              "      <td>120</td>\n",
              "    </tr>\n",
              "    <tr>\n",
              "      <th>367788</th>\n",
              "      <td>367788</td>\n",
              "      <td>498109</td>\n",
              "      <td>491396</td>\n",
              "      <td>Why do so many people in the U.S. hate the sou...</td>\n",
              "      <td>My boyfriend doesnt feel guilty when he hurts ...</td>\n",
              "      <td>0</td>\n",
              "      <td>59</td>\n",
              "      <td>146</td>\n",
              "    </tr>\n",
              "    <tr>\n",
              "      <th>151235</th>\n",
              "      <td>151235</td>\n",
              "      <td>237843</td>\n",
              "      <td>50930</td>\n",
              "      <td>Consequences of Bhopal gas tragedy?</td>\n",
              "      <td>What was the reason behind the Bhopal gas trag...</td>\n",
              "      <td>0</td>\n",
              "      <td>35</td>\n",
              "      <td>50</td>\n",
              "    </tr>\n",
              "  </tbody>\n",
              "</table>\n",
              "</div>\n",
              "      <button class=\"colab-df-convert\" onclick=\"convertToInteractive('df-398287a9-6b9c-43bd-befb-b133e9e8e4dc')\"\n",
              "              title=\"Convert this dataframe to an interactive table.\"\n",
              "              style=\"display:none;\">\n",
              "        \n",
              "  <svg xmlns=\"http://www.w3.org/2000/svg\" height=\"24px\"viewBox=\"0 0 24 24\"\n",
              "       width=\"24px\">\n",
              "    <path d=\"M0 0h24v24H0V0z\" fill=\"none\"/>\n",
              "    <path d=\"M18.56 5.44l.94 2.06.94-2.06 2.06-.94-2.06-.94-.94-2.06-.94 2.06-2.06.94zm-11 1L8.5 8.5l.94-2.06 2.06-.94-2.06-.94L8.5 2.5l-.94 2.06-2.06.94zm10 10l.94 2.06.94-2.06 2.06-.94-2.06-.94-.94-2.06-.94 2.06-2.06.94z\"/><path d=\"M17.41 7.96l-1.37-1.37c-.4-.4-.92-.59-1.43-.59-.52 0-1.04.2-1.43.59L10.3 9.45l-7.72 7.72c-.78.78-.78 2.05 0 2.83L4 21.41c.39.39.9.59 1.41.59.51 0 1.02-.2 1.41-.59l7.78-7.78 2.81-2.81c.8-.78.8-2.07 0-2.86zM5.41 20L4 18.59l7.72-7.72 1.47 1.35L5.41 20z\"/>\n",
              "  </svg>\n",
              "      </button>\n",
              "      \n",
              "  <style>\n",
              "    .colab-df-container {\n",
              "      display:flex;\n",
              "      flex-wrap:wrap;\n",
              "      gap: 12px;\n",
              "    }\n",
              "\n",
              "    .colab-df-convert {\n",
              "      background-color: #E8F0FE;\n",
              "      border: none;\n",
              "      border-radius: 50%;\n",
              "      cursor: pointer;\n",
              "      display: none;\n",
              "      fill: #1967D2;\n",
              "      height: 32px;\n",
              "      padding: 0 0 0 0;\n",
              "      width: 32px;\n",
              "    }\n",
              "\n",
              "    .colab-df-convert:hover {\n",
              "      background-color: #E2EBFA;\n",
              "      box-shadow: 0px 1px 2px rgba(60, 64, 67, 0.3), 0px 1px 3px 1px rgba(60, 64, 67, 0.15);\n",
              "      fill: #174EA6;\n",
              "    }\n",
              "\n",
              "    [theme=dark] .colab-df-convert {\n",
              "      background-color: #3B4455;\n",
              "      fill: #D2E3FC;\n",
              "    }\n",
              "\n",
              "    [theme=dark] .colab-df-convert:hover {\n",
              "      background-color: #434B5C;\n",
              "      box-shadow: 0px 1px 3px 1px rgba(0, 0, 0, 0.15);\n",
              "      filter: drop-shadow(0px 1px 2px rgba(0, 0, 0, 0.3));\n",
              "      fill: #FFFFFF;\n",
              "    }\n",
              "  </style>\n",
              "\n",
              "      <script>\n",
              "        const buttonEl =\n",
              "          document.querySelector('#df-398287a9-6b9c-43bd-befb-b133e9e8e4dc button.colab-df-convert');\n",
              "        buttonEl.style.display =\n",
              "          google.colab.kernel.accessAllowed ? 'block' : 'none';\n",
              "\n",
              "        async function convertToInteractive(key) {\n",
              "          const element = document.querySelector('#df-398287a9-6b9c-43bd-befb-b133e9e8e4dc');\n",
              "          const dataTable =\n",
              "            await google.colab.kernel.invokeFunction('convertToInteractive',\n",
              "                                                     [key], {});\n",
              "          if (!dataTable) return;\n",
              "\n",
              "          const docLinkHtml = 'Like what you see? Visit the ' +\n",
              "            '<a target=\"_blank\" href=https://colab.research.google.com/notebooks/data_table.ipynb>data table notebook</a>'\n",
              "            + ' to learn more about interactive tables.';\n",
              "          element.innerHTML = '';\n",
              "          dataTable['output_type'] = 'display_data';\n",
              "          await google.colab.output.renderOutput(dataTable, element);\n",
              "          const docLink = document.createElement('div');\n",
              "          docLink.innerHTML = docLinkHtml;\n",
              "          element.appendChild(docLink);\n",
              "        }\n",
              "      </script>\n",
              "    </div>\n",
              "  </div>\n",
              "  "
            ]
          },
          "metadata": {},
          "execution_count": 29
        }
      ]
    },
    {
      "cell_type": "markdown",
      "source": [
        "### 2. Number of words in the questions calculation"
      ],
      "metadata": {
        "id": "1yagIwzcoAP7"
      }
    },
    {
      "cell_type": "code",
      "source": [
        "new_data[\"qs1_num_words\"]=new_data[\"question1\"].apply(lambda row: len(row.split(\" \")))\n",
        "new_data[\"qs2_num_words\"]=new_data[\"question2\"].apply(lambda row: len(row.split(\" \")))"
      ],
      "metadata": {
        "id": "pTMWV7A2_Oky"
      },
      "execution_count": null,
      "outputs": []
    },
    {
      "cell_type": "code",
      "source": [
        "print(\"After adding another 2 new columns the dataset looks like: \")\n",
        "new_data.head()"
      ],
      "metadata": {
        "colab": {
          "base_uri": "https://localhost:8080/",
          "height": 224
        },
        "id": "GykrAPUU_Oob",
        "outputId": "19f1611c-2e5e-4573-d231-c4e806004fb5"
      },
      "execution_count": null,
      "outputs": [
        {
          "output_type": "stream",
          "name": "stdout",
          "text": [
            "After adding another 2 new columns the dataset looks like: \n"
          ]
        },
        {
          "output_type": "execute_result",
          "data": {
            "text/plain": [
              "            id    qid1    qid2  \\\n",
              "398782  398782  496695  532029   \n",
              "115086  115086  187729  187730   \n",
              "327711  327711  454161  454162   \n",
              "367788  367788  498109  491396   \n",
              "151235  151235  237843   50930   \n",
              "\n",
              "                                                question1  \\\n",
              "398782  What is the best marketing automation tool for...   \n",
              "115086  I am poor but I want to invest. What should I do?   \n",
              "327711  I am from India and live abroad. I met a guy f...   \n",
              "367788  Why do so many people in the U.S. hate the sou...   \n",
              "151235                Consequences of Bhopal gas tragedy?   \n",
              "\n",
              "                                                question2  is_duplicate  \\\n",
              "398782  What is the best marketing automation tool for...             1   \n",
              "115086  I am quite poor and I want to be very rich. Wh...             0   \n",
              "327711  T.I.E.T to Thapar University to Thapar Univers...             0   \n",
              "367788  My boyfriend doesnt feel guilty when he hurts ...             0   \n",
              "151235  What was the reason behind the Bhopal gas trag...             0   \n",
              "\n",
              "        qs1_len  qs2_len  qs1_num_words  qs2_num_words  \n",
              "398782       76       77             12             12  \n",
              "115086       49       57             12             15  \n",
              "327711      105      120             25             17  \n",
              "367788       59      146             12             30  \n",
              "151235       35       50              5              9  "
            ],
            "text/html": [
              "\n",
              "  <div id=\"df-bd3404cc-64d3-4200-ac40-a3aac80fa354\">\n",
              "    <div class=\"colab-df-container\">\n",
              "      <div>\n",
              "<style scoped>\n",
              "    .dataframe tbody tr th:only-of-type {\n",
              "        vertical-align: middle;\n",
              "    }\n",
              "\n",
              "    .dataframe tbody tr th {\n",
              "        vertical-align: top;\n",
              "    }\n",
              "\n",
              "    .dataframe thead th {\n",
              "        text-align: right;\n",
              "    }\n",
              "</style>\n",
              "<table border=\"1\" class=\"dataframe\">\n",
              "  <thead>\n",
              "    <tr style=\"text-align: right;\">\n",
              "      <th></th>\n",
              "      <th>id</th>\n",
              "      <th>qid1</th>\n",
              "      <th>qid2</th>\n",
              "      <th>question1</th>\n",
              "      <th>question2</th>\n",
              "      <th>is_duplicate</th>\n",
              "      <th>qs1_len</th>\n",
              "      <th>qs2_len</th>\n",
              "      <th>qs1_num_words</th>\n",
              "      <th>qs2_num_words</th>\n",
              "    </tr>\n",
              "  </thead>\n",
              "  <tbody>\n",
              "    <tr>\n",
              "      <th>398782</th>\n",
              "      <td>398782</td>\n",
              "      <td>496695</td>\n",
              "      <td>532029</td>\n",
              "      <td>What is the best marketing automation tool for...</td>\n",
              "      <td>What is the best marketing automation tool for...</td>\n",
              "      <td>1</td>\n",
              "      <td>76</td>\n",
              "      <td>77</td>\n",
              "      <td>12</td>\n",
              "      <td>12</td>\n",
              "    </tr>\n",
              "    <tr>\n",
              "      <th>115086</th>\n",
              "      <td>115086</td>\n",
              "      <td>187729</td>\n",
              "      <td>187730</td>\n",
              "      <td>I am poor but I want to invest. What should I do?</td>\n",
              "      <td>I am quite poor and I want to be very rich. Wh...</td>\n",
              "      <td>0</td>\n",
              "      <td>49</td>\n",
              "      <td>57</td>\n",
              "      <td>12</td>\n",
              "      <td>15</td>\n",
              "    </tr>\n",
              "    <tr>\n",
              "      <th>327711</th>\n",
              "      <td>327711</td>\n",
              "      <td>454161</td>\n",
              "      <td>454162</td>\n",
              "      <td>I am from India and live abroad. I met a guy f...</td>\n",
              "      <td>T.I.E.T to Thapar University to Thapar Univers...</td>\n",
              "      <td>0</td>\n",
              "      <td>105</td>\n",
              "      <td>120</td>\n",
              "      <td>25</td>\n",
              "      <td>17</td>\n",
              "    </tr>\n",
              "    <tr>\n",
              "      <th>367788</th>\n",
              "      <td>367788</td>\n",
              "      <td>498109</td>\n",
              "      <td>491396</td>\n",
              "      <td>Why do so many people in the U.S. hate the sou...</td>\n",
              "      <td>My boyfriend doesnt feel guilty when he hurts ...</td>\n",
              "      <td>0</td>\n",
              "      <td>59</td>\n",
              "      <td>146</td>\n",
              "      <td>12</td>\n",
              "      <td>30</td>\n",
              "    </tr>\n",
              "    <tr>\n",
              "      <th>151235</th>\n",
              "      <td>151235</td>\n",
              "      <td>237843</td>\n",
              "      <td>50930</td>\n",
              "      <td>Consequences of Bhopal gas tragedy?</td>\n",
              "      <td>What was the reason behind the Bhopal gas trag...</td>\n",
              "      <td>0</td>\n",
              "      <td>35</td>\n",
              "      <td>50</td>\n",
              "      <td>5</td>\n",
              "      <td>9</td>\n",
              "    </tr>\n",
              "  </tbody>\n",
              "</table>\n",
              "</div>\n",
              "      <button class=\"colab-df-convert\" onclick=\"convertToInteractive('df-bd3404cc-64d3-4200-ac40-a3aac80fa354')\"\n",
              "              title=\"Convert this dataframe to an interactive table.\"\n",
              "              style=\"display:none;\">\n",
              "        \n",
              "  <svg xmlns=\"http://www.w3.org/2000/svg\" height=\"24px\"viewBox=\"0 0 24 24\"\n",
              "       width=\"24px\">\n",
              "    <path d=\"M0 0h24v24H0V0z\" fill=\"none\"/>\n",
              "    <path d=\"M18.56 5.44l.94 2.06.94-2.06 2.06-.94-2.06-.94-.94-2.06-.94 2.06-2.06.94zm-11 1L8.5 8.5l.94-2.06 2.06-.94-2.06-.94L8.5 2.5l-.94 2.06-2.06.94zm10 10l.94 2.06.94-2.06 2.06-.94-2.06-.94-.94-2.06-.94 2.06-2.06.94z\"/><path d=\"M17.41 7.96l-1.37-1.37c-.4-.4-.92-.59-1.43-.59-.52 0-1.04.2-1.43.59L10.3 9.45l-7.72 7.72c-.78.78-.78 2.05 0 2.83L4 21.41c.39.39.9.59 1.41.59.51 0 1.02-.2 1.41-.59l7.78-7.78 2.81-2.81c.8-.78.8-2.07 0-2.86zM5.41 20L4 18.59l7.72-7.72 1.47 1.35L5.41 20z\"/>\n",
              "  </svg>\n",
              "      </button>\n",
              "      \n",
              "  <style>\n",
              "    .colab-df-container {\n",
              "      display:flex;\n",
              "      flex-wrap:wrap;\n",
              "      gap: 12px;\n",
              "    }\n",
              "\n",
              "    .colab-df-convert {\n",
              "      background-color: #E8F0FE;\n",
              "      border: none;\n",
              "      border-radius: 50%;\n",
              "      cursor: pointer;\n",
              "      display: none;\n",
              "      fill: #1967D2;\n",
              "      height: 32px;\n",
              "      padding: 0 0 0 0;\n",
              "      width: 32px;\n",
              "    }\n",
              "\n",
              "    .colab-df-convert:hover {\n",
              "      background-color: #E2EBFA;\n",
              "      box-shadow: 0px 1px 2px rgba(60, 64, 67, 0.3), 0px 1px 3px 1px rgba(60, 64, 67, 0.15);\n",
              "      fill: #174EA6;\n",
              "    }\n",
              "\n",
              "    [theme=dark] .colab-df-convert {\n",
              "      background-color: #3B4455;\n",
              "      fill: #D2E3FC;\n",
              "    }\n",
              "\n",
              "    [theme=dark] .colab-df-convert:hover {\n",
              "      background-color: #434B5C;\n",
              "      box-shadow: 0px 1px 3px 1px rgba(0, 0, 0, 0.15);\n",
              "      filter: drop-shadow(0px 1px 2px rgba(0, 0, 0, 0.3));\n",
              "      fill: #FFFFFF;\n",
              "    }\n",
              "  </style>\n",
              "\n",
              "      <script>\n",
              "        const buttonEl =\n",
              "          document.querySelector('#df-bd3404cc-64d3-4200-ac40-a3aac80fa354 button.colab-df-convert');\n",
              "        buttonEl.style.display =\n",
              "          google.colab.kernel.accessAllowed ? 'block' : 'none';\n",
              "\n",
              "        async function convertToInteractive(key) {\n",
              "          const element = document.querySelector('#df-bd3404cc-64d3-4200-ac40-a3aac80fa354');\n",
              "          const dataTable =\n",
              "            await google.colab.kernel.invokeFunction('convertToInteractive',\n",
              "                                                     [key], {});\n",
              "          if (!dataTable) return;\n",
              "\n",
              "          const docLinkHtml = 'Like what you see? Visit the ' +\n",
              "            '<a target=\"_blank\" href=https://colab.research.google.com/notebooks/data_table.ipynb>data table notebook</a>'\n",
              "            + ' to learn more about interactive tables.';\n",
              "          element.innerHTML = '';\n",
              "          dataTable['output_type'] = 'display_data';\n",
              "          await google.colab.output.renderOutput(dataTable, element);\n",
              "          const docLink = document.createElement('div');\n",
              "          docLink.innerHTML = docLinkHtml;\n",
              "          element.appendChild(docLink);\n",
              "        }\n",
              "      </script>\n",
              "    </div>\n",
              "  </div>\n",
              "  "
            ]
          },
          "metadata": {},
          "execution_count": 31
        }
      ]
    },
    {
      "cell_type": "markdown",
      "source": [
        "### 3. Number of common words calculations "
      ],
      "metadata": {
        "id": "8Nb1LqYJoJ3m"
      }
    },
    {
      "cell_type": "code",
      "source": [
        "def common_words(row):\n",
        "    wd1 = set(map(lambda word: word.lower().strip(), row['question1'].split(\" \")))\n",
        "    wd2 = set(map(lambda word: word.lower().strip(), row['question2'].split(\" \")))    \n",
        "    return len(wd1 & wd2)"
      ],
      "metadata": {
        "id": "KLr07_vE_OsH"
      },
      "execution_count": null,
      "outputs": []
    },
    {
      "cell_type": "code",
      "source": [
        "new_data['word_common'] = new_data.apply(common_words, axis=1)\n",
        "print(\"After adding another one new column the dataset looks like: \")\n",
        "new_data.head()\n"
      ],
      "metadata": {
        "colab": {
          "base_uri": "https://localhost:8080/",
          "height": 224
        },
        "id": "9H4amTB9_Ovm",
        "outputId": "5d4cc9ec-035b-412b-e5d6-f54e6cc16c30"
      },
      "execution_count": null,
      "outputs": [
        {
          "output_type": "stream",
          "name": "stdout",
          "text": [
            "After adding another one new column the dataset looks like: \n"
          ]
        },
        {
          "output_type": "execute_result",
          "data": {
            "text/plain": [
              "            id    qid1    qid2  \\\n",
              "398782  398782  496695  532029   \n",
              "115086  115086  187729  187730   \n",
              "327711  327711  454161  454162   \n",
              "367788  367788  498109  491396   \n",
              "151235  151235  237843   50930   \n",
              "\n",
              "                                                question1  \\\n",
              "398782  What is the best marketing automation tool for...   \n",
              "115086  I am poor but I want to invest. What should I do?   \n",
              "327711  I am from India and live abroad. I met a guy f...   \n",
              "367788  Why do so many people in the U.S. hate the sou...   \n",
              "151235                Consequences of Bhopal gas tragedy?   \n",
              "\n",
              "                                                question2  is_duplicate  \\\n",
              "398782  What is the best marketing automation tool for...             1   \n",
              "115086  I am quite poor and I want to be very rich. Wh...             0   \n",
              "327711  T.I.E.T to Thapar University to Thapar Univers...             0   \n",
              "367788  My boyfriend doesnt feel guilty when he hurts ...             0   \n",
              "151235  What was the reason behind the Bhopal gas trag...             0   \n",
              "\n",
              "        qs1_len  qs2_len  qs1_num_words  qs2_num_words  word_common  \n",
              "398782       76       77             12             12           11  \n",
              "115086       49       57             12             15            7  \n",
              "327711      105      120             25             17            2  \n",
              "367788       59      146             12             30            0  \n",
              "151235       35       50              5              9            3  "
            ],
            "text/html": [
              "\n",
              "  <div id=\"df-713a84a4-37e6-4bc3-90e6-900981c17bf1\">\n",
              "    <div class=\"colab-df-container\">\n",
              "      <div>\n",
              "<style scoped>\n",
              "    .dataframe tbody tr th:only-of-type {\n",
              "        vertical-align: middle;\n",
              "    }\n",
              "\n",
              "    .dataframe tbody tr th {\n",
              "        vertical-align: top;\n",
              "    }\n",
              "\n",
              "    .dataframe thead th {\n",
              "        text-align: right;\n",
              "    }\n",
              "</style>\n",
              "<table border=\"1\" class=\"dataframe\">\n",
              "  <thead>\n",
              "    <tr style=\"text-align: right;\">\n",
              "      <th></th>\n",
              "      <th>id</th>\n",
              "      <th>qid1</th>\n",
              "      <th>qid2</th>\n",
              "      <th>question1</th>\n",
              "      <th>question2</th>\n",
              "      <th>is_duplicate</th>\n",
              "      <th>qs1_len</th>\n",
              "      <th>qs2_len</th>\n",
              "      <th>qs1_num_words</th>\n",
              "      <th>qs2_num_words</th>\n",
              "      <th>word_common</th>\n",
              "    </tr>\n",
              "  </thead>\n",
              "  <tbody>\n",
              "    <tr>\n",
              "      <th>398782</th>\n",
              "      <td>398782</td>\n",
              "      <td>496695</td>\n",
              "      <td>532029</td>\n",
              "      <td>What is the best marketing automation tool for...</td>\n",
              "      <td>What is the best marketing automation tool for...</td>\n",
              "      <td>1</td>\n",
              "      <td>76</td>\n",
              "      <td>77</td>\n",
              "      <td>12</td>\n",
              "      <td>12</td>\n",
              "      <td>11</td>\n",
              "    </tr>\n",
              "    <tr>\n",
              "      <th>115086</th>\n",
              "      <td>115086</td>\n",
              "      <td>187729</td>\n",
              "      <td>187730</td>\n",
              "      <td>I am poor but I want to invest. What should I do?</td>\n",
              "      <td>I am quite poor and I want to be very rich. Wh...</td>\n",
              "      <td>0</td>\n",
              "      <td>49</td>\n",
              "      <td>57</td>\n",
              "      <td>12</td>\n",
              "      <td>15</td>\n",
              "      <td>7</td>\n",
              "    </tr>\n",
              "    <tr>\n",
              "      <th>327711</th>\n",
              "      <td>327711</td>\n",
              "      <td>454161</td>\n",
              "      <td>454162</td>\n",
              "      <td>I am from India and live abroad. I met a guy f...</td>\n",
              "      <td>T.I.E.T to Thapar University to Thapar Univers...</td>\n",
              "      <td>0</td>\n",
              "      <td>105</td>\n",
              "      <td>120</td>\n",
              "      <td>25</td>\n",
              "      <td>17</td>\n",
              "      <td>2</td>\n",
              "    </tr>\n",
              "    <tr>\n",
              "      <th>367788</th>\n",
              "      <td>367788</td>\n",
              "      <td>498109</td>\n",
              "      <td>491396</td>\n",
              "      <td>Why do so many people in the U.S. hate the sou...</td>\n",
              "      <td>My boyfriend doesnt feel guilty when he hurts ...</td>\n",
              "      <td>0</td>\n",
              "      <td>59</td>\n",
              "      <td>146</td>\n",
              "      <td>12</td>\n",
              "      <td>30</td>\n",
              "      <td>0</td>\n",
              "    </tr>\n",
              "    <tr>\n",
              "      <th>151235</th>\n",
              "      <td>151235</td>\n",
              "      <td>237843</td>\n",
              "      <td>50930</td>\n",
              "      <td>Consequences of Bhopal gas tragedy?</td>\n",
              "      <td>What was the reason behind the Bhopal gas trag...</td>\n",
              "      <td>0</td>\n",
              "      <td>35</td>\n",
              "      <td>50</td>\n",
              "      <td>5</td>\n",
              "      <td>9</td>\n",
              "      <td>3</td>\n",
              "    </tr>\n",
              "  </tbody>\n",
              "</table>\n",
              "</div>\n",
              "      <button class=\"colab-df-convert\" onclick=\"convertToInteractive('df-713a84a4-37e6-4bc3-90e6-900981c17bf1')\"\n",
              "              title=\"Convert this dataframe to an interactive table.\"\n",
              "              style=\"display:none;\">\n",
              "        \n",
              "  <svg xmlns=\"http://www.w3.org/2000/svg\" height=\"24px\"viewBox=\"0 0 24 24\"\n",
              "       width=\"24px\">\n",
              "    <path d=\"M0 0h24v24H0V0z\" fill=\"none\"/>\n",
              "    <path d=\"M18.56 5.44l.94 2.06.94-2.06 2.06-.94-2.06-.94-.94-2.06-.94 2.06-2.06.94zm-11 1L8.5 8.5l.94-2.06 2.06-.94-2.06-.94L8.5 2.5l-.94 2.06-2.06.94zm10 10l.94 2.06.94-2.06 2.06-.94-2.06-.94-.94-2.06-.94 2.06-2.06.94z\"/><path d=\"M17.41 7.96l-1.37-1.37c-.4-.4-.92-.59-1.43-.59-.52 0-1.04.2-1.43.59L10.3 9.45l-7.72 7.72c-.78.78-.78 2.05 0 2.83L4 21.41c.39.39.9.59 1.41.59.51 0 1.02-.2 1.41-.59l7.78-7.78 2.81-2.81c.8-.78.8-2.07 0-2.86zM5.41 20L4 18.59l7.72-7.72 1.47 1.35L5.41 20z\"/>\n",
              "  </svg>\n",
              "      </button>\n",
              "      \n",
              "  <style>\n",
              "    .colab-df-container {\n",
              "      display:flex;\n",
              "      flex-wrap:wrap;\n",
              "      gap: 12px;\n",
              "    }\n",
              "\n",
              "    .colab-df-convert {\n",
              "      background-color: #E8F0FE;\n",
              "      border: none;\n",
              "      border-radius: 50%;\n",
              "      cursor: pointer;\n",
              "      display: none;\n",
              "      fill: #1967D2;\n",
              "      height: 32px;\n",
              "      padding: 0 0 0 0;\n",
              "      width: 32px;\n",
              "    }\n",
              "\n",
              "    .colab-df-convert:hover {\n",
              "      background-color: #E2EBFA;\n",
              "      box-shadow: 0px 1px 2px rgba(60, 64, 67, 0.3), 0px 1px 3px 1px rgba(60, 64, 67, 0.15);\n",
              "      fill: #174EA6;\n",
              "    }\n",
              "\n",
              "    [theme=dark] .colab-df-convert {\n",
              "      background-color: #3B4455;\n",
              "      fill: #D2E3FC;\n",
              "    }\n",
              "\n",
              "    [theme=dark] .colab-df-convert:hover {\n",
              "      background-color: #434B5C;\n",
              "      box-shadow: 0px 1px 3px 1px rgba(0, 0, 0, 0.15);\n",
              "      filter: drop-shadow(0px 1px 2px rgba(0, 0, 0, 0.3));\n",
              "      fill: #FFFFFF;\n",
              "    }\n",
              "  </style>\n",
              "\n",
              "      <script>\n",
              "        const buttonEl =\n",
              "          document.querySelector('#df-713a84a4-37e6-4bc3-90e6-900981c17bf1 button.colab-df-convert');\n",
              "        buttonEl.style.display =\n",
              "          google.colab.kernel.accessAllowed ? 'block' : 'none';\n",
              "\n",
              "        async function convertToInteractive(key) {\n",
              "          const element = document.querySelector('#df-713a84a4-37e6-4bc3-90e6-900981c17bf1');\n",
              "          const dataTable =\n",
              "            await google.colab.kernel.invokeFunction('convertToInteractive',\n",
              "                                                     [key], {});\n",
              "          if (!dataTable) return;\n",
              "\n",
              "          const docLinkHtml = 'Like what you see? Visit the ' +\n",
              "            '<a target=\"_blank\" href=https://colab.research.google.com/notebooks/data_table.ipynb>data table notebook</a>'\n",
              "            + ' to learn more about interactive tables.';\n",
              "          element.innerHTML = '';\n",
              "          dataTable['output_type'] = 'display_data';\n",
              "          await google.colab.output.renderOutput(dataTable, element);\n",
              "          const docLink = document.createElement('div');\n",
              "          docLink.innerHTML = docLinkHtml;\n",
              "          element.appendChild(docLink);\n",
              "        }\n",
              "      </script>\n",
              "    </div>\n",
              "  </div>\n",
              "  "
            ]
          },
          "metadata": {},
          "execution_count": 33
        }
      ]
    },
    {
      "cell_type": "markdown",
      "source": [
        "### 4. Total number of words( Question1 + Question2 ) calculation"
      ],
      "metadata": {
        "id": "mbOp_kBQpsS3"
      }
    },
    {
      "cell_type": "code",
      "source": [
        "def total_words(row):\n",
        "  wd1=set(map(lambda word: word.lower().strip(), row[\"question1\"].split()))\n",
        "  wd2=set(map(lambda word: word.lower().strip(), row[\"question2\"].split()))\n",
        "  return(len(wd1)+len(wd2))"
      ],
      "metadata": {
        "id": "1amIwJrC_Oyi"
      },
      "execution_count": null,
      "outputs": []
    },
    {
      "cell_type": "code",
      "source": [
        "new_data['word_total'] = new_data.apply(total_words, axis=1)\n",
        "print(\"After adding another one new column the dataset looks like: \")\n",
        "new_data.head()"
      ],
      "metadata": {
        "colab": {
          "base_uri": "https://localhost:8080/",
          "height": 224
        },
        "id": "JJ0zOmRf_O1N",
        "outputId": "0cb8a1a2-72c6-4b32-b391-6e76dc7690aa"
      },
      "execution_count": null,
      "outputs": [
        {
          "output_type": "stream",
          "name": "stdout",
          "text": [
            "After adding another one new column the dataset looks like: \n"
          ]
        },
        {
          "output_type": "execute_result",
          "data": {
            "text/plain": [
              "            id    qid1    qid2  \\\n",
              "398782  398782  496695  532029   \n",
              "115086  115086  187729  187730   \n",
              "327711  327711  454161  454162   \n",
              "367788  367788  498109  491396   \n",
              "151235  151235  237843   50930   \n",
              "\n",
              "                                                question1  \\\n",
              "398782  What is the best marketing automation tool for...   \n",
              "115086  I am poor but I want to invest. What should I do?   \n",
              "327711  I am from India and live abroad. I met a guy f...   \n",
              "367788  Why do so many people in the U.S. hate the sou...   \n",
              "151235                Consequences of Bhopal gas tragedy?   \n",
              "\n",
              "                                                question2  is_duplicate  \\\n",
              "398782  What is the best marketing automation tool for...             1   \n",
              "115086  I am quite poor and I want to be very rich. Wh...             0   \n",
              "327711  T.I.E.T to Thapar University to Thapar Univers...             0   \n",
              "367788  My boyfriend doesnt feel guilty when he hurts ...             0   \n",
              "151235  What was the reason behind the Bhopal gas trag...             0   \n",
              "\n",
              "        qs1_len  qs2_len  qs1_num_words  qs2_num_words  word_common  \\\n",
              "398782       76       77             12             12           11   \n",
              "115086       49       57             12             15            7   \n",
              "327711      105      120             25             17            2   \n",
              "367788       59      146             12             30            0   \n",
              "151235       35       50              5              9            3   \n",
              "\n",
              "        word_total  \n",
              "398782          24  \n",
              "115086          23  \n",
              "327711          34  \n",
              "367788          32  \n",
              "151235          13  "
            ],
            "text/html": [
              "\n",
              "  <div id=\"df-667119ed-570b-43b6-8aff-8c68a3373add\">\n",
              "    <div class=\"colab-df-container\">\n",
              "      <div>\n",
              "<style scoped>\n",
              "    .dataframe tbody tr th:only-of-type {\n",
              "        vertical-align: middle;\n",
              "    }\n",
              "\n",
              "    .dataframe tbody tr th {\n",
              "        vertical-align: top;\n",
              "    }\n",
              "\n",
              "    .dataframe thead th {\n",
              "        text-align: right;\n",
              "    }\n",
              "</style>\n",
              "<table border=\"1\" class=\"dataframe\">\n",
              "  <thead>\n",
              "    <tr style=\"text-align: right;\">\n",
              "      <th></th>\n",
              "      <th>id</th>\n",
              "      <th>qid1</th>\n",
              "      <th>qid2</th>\n",
              "      <th>question1</th>\n",
              "      <th>question2</th>\n",
              "      <th>is_duplicate</th>\n",
              "      <th>qs1_len</th>\n",
              "      <th>qs2_len</th>\n",
              "      <th>qs1_num_words</th>\n",
              "      <th>qs2_num_words</th>\n",
              "      <th>word_common</th>\n",
              "      <th>word_total</th>\n",
              "    </tr>\n",
              "  </thead>\n",
              "  <tbody>\n",
              "    <tr>\n",
              "      <th>398782</th>\n",
              "      <td>398782</td>\n",
              "      <td>496695</td>\n",
              "      <td>532029</td>\n",
              "      <td>What is the best marketing automation tool for...</td>\n",
              "      <td>What is the best marketing automation tool for...</td>\n",
              "      <td>1</td>\n",
              "      <td>76</td>\n",
              "      <td>77</td>\n",
              "      <td>12</td>\n",
              "      <td>12</td>\n",
              "      <td>11</td>\n",
              "      <td>24</td>\n",
              "    </tr>\n",
              "    <tr>\n",
              "      <th>115086</th>\n",
              "      <td>115086</td>\n",
              "      <td>187729</td>\n",
              "      <td>187730</td>\n",
              "      <td>I am poor but I want to invest. What should I do?</td>\n",
              "      <td>I am quite poor and I want to be very rich. Wh...</td>\n",
              "      <td>0</td>\n",
              "      <td>49</td>\n",
              "      <td>57</td>\n",
              "      <td>12</td>\n",
              "      <td>15</td>\n",
              "      <td>7</td>\n",
              "      <td>23</td>\n",
              "    </tr>\n",
              "    <tr>\n",
              "      <th>327711</th>\n",
              "      <td>327711</td>\n",
              "      <td>454161</td>\n",
              "      <td>454162</td>\n",
              "      <td>I am from India and live abroad. I met a guy f...</td>\n",
              "      <td>T.I.E.T to Thapar University to Thapar Univers...</td>\n",
              "      <td>0</td>\n",
              "      <td>105</td>\n",
              "      <td>120</td>\n",
              "      <td>25</td>\n",
              "      <td>17</td>\n",
              "      <td>2</td>\n",
              "      <td>34</td>\n",
              "    </tr>\n",
              "    <tr>\n",
              "      <th>367788</th>\n",
              "      <td>367788</td>\n",
              "      <td>498109</td>\n",
              "      <td>491396</td>\n",
              "      <td>Why do so many people in the U.S. hate the sou...</td>\n",
              "      <td>My boyfriend doesnt feel guilty when he hurts ...</td>\n",
              "      <td>0</td>\n",
              "      <td>59</td>\n",
              "      <td>146</td>\n",
              "      <td>12</td>\n",
              "      <td>30</td>\n",
              "      <td>0</td>\n",
              "      <td>32</td>\n",
              "    </tr>\n",
              "    <tr>\n",
              "      <th>151235</th>\n",
              "      <td>151235</td>\n",
              "      <td>237843</td>\n",
              "      <td>50930</td>\n",
              "      <td>Consequences of Bhopal gas tragedy?</td>\n",
              "      <td>What was the reason behind the Bhopal gas trag...</td>\n",
              "      <td>0</td>\n",
              "      <td>35</td>\n",
              "      <td>50</td>\n",
              "      <td>5</td>\n",
              "      <td>9</td>\n",
              "      <td>3</td>\n",
              "      <td>13</td>\n",
              "    </tr>\n",
              "  </tbody>\n",
              "</table>\n",
              "</div>\n",
              "      <button class=\"colab-df-convert\" onclick=\"convertToInteractive('df-667119ed-570b-43b6-8aff-8c68a3373add')\"\n",
              "              title=\"Convert this dataframe to an interactive table.\"\n",
              "              style=\"display:none;\">\n",
              "        \n",
              "  <svg xmlns=\"http://www.w3.org/2000/svg\" height=\"24px\"viewBox=\"0 0 24 24\"\n",
              "       width=\"24px\">\n",
              "    <path d=\"M0 0h24v24H0V0z\" fill=\"none\"/>\n",
              "    <path d=\"M18.56 5.44l.94 2.06.94-2.06 2.06-.94-2.06-.94-.94-2.06-.94 2.06-2.06.94zm-11 1L8.5 8.5l.94-2.06 2.06-.94-2.06-.94L8.5 2.5l-.94 2.06-2.06.94zm10 10l.94 2.06.94-2.06 2.06-.94-2.06-.94-.94-2.06-.94 2.06-2.06.94z\"/><path d=\"M17.41 7.96l-1.37-1.37c-.4-.4-.92-.59-1.43-.59-.52 0-1.04.2-1.43.59L10.3 9.45l-7.72 7.72c-.78.78-.78 2.05 0 2.83L4 21.41c.39.39.9.59 1.41.59.51 0 1.02-.2 1.41-.59l7.78-7.78 2.81-2.81c.8-.78.8-2.07 0-2.86zM5.41 20L4 18.59l7.72-7.72 1.47 1.35L5.41 20z\"/>\n",
              "  </svg>\n",
              "      </button>\n",
              "      \n",
              "  <style>\n",
              "    .colab-df-container {\n",
              "      display:flex;\n",
              "      flex-wrap:wrap;\n",
              "      gap: 12px;\n",
              "    }\n",
              "\n",
              "    .colab-df-convert {\n",
              "      background-color: #E8F0FE;\n",
              "      border: none;\n",
              "      border-radius: 50%;\n",
              "      cursor: pointer;\n",
              "      display: none;\n",
              "      fill: #1967D2;\n",
              "      height: 32px;\n",
              "      padding: 0 0 0 0;\n",
              "      width: 32px;\n",
              "    }\n",
              "\n",
              "    .colab-df-convert:hover {\n",
              "      background-color: #E2EBFA;\n",
              "      box-shadow: 0px 1px 2px rgba(60, 64, 67, 0.3), 0px 1px 3px 1px rgba(60, 64, 67, 0.15);\n",
              "      fill: #174EA6;\n",
              "    }\n",
              "\n",
              "    [theme=dark] .colab-df-convert {\n",
              "      background-color: #3B4455;\n",
              "      fill: #D2E3FC;\n",
              "    }\n",
              "\n",
              "    [theme=dark] .colab-df-convert:hover {\n",
              "      background-color: #434B5C;\n",
              "      box-shadow: 0px 1px 3px 1px rgba(0, 0, 0, 0.15);\n",
              "      filter: drop-shadow(0px 1px 2px rgba(0, 0, 0, 0.3));\n",
              "      fill: #FFFFFF;\n",
              "    }\n",
              "  </style>\n",
              "\n",
              "      <script>\n",
              "        const buttonEl =\n",
              "          document.querySelector('#df-667119ed-570b-43b6-8aff-8c68a3373add button.colab-df-convert');\n",
              "        buttonEl.style.display =\n",
              "          google.colab.kernel.accessAllowed ? 'block' : 'none';\n",
              "\n",
              "        async function convertToInteractive(key) {\n",
              "          const element = document.querySelector('#df-667119ed-570b-43b6-8aff-8c68a3373add');\n",
              "          const dataTable =\n",
              "            await google.colab.kernel.invokeFunction('convertToInteractive',\n",
              "                                                     [key], {});\n",
              "          if (!dataTable) return;\n",
              "\n",
              "          const docLinkHtml = 'Like what you see? Visit the ' +\n",
              "            '<a target=\"_blank\" href=https://colab.research.google.com/notebooks/data_table.ipynb>data table notebook</a>'\n",
              "            + ' to learn more about interactive tables.';\n",
              "          element.innerHTML = '';\n",
              "          dataTable['output_type'] = 'display_data';\n",
              "          await google.colab.output.renderOutput(dataTable, element);\n",
              "          const docLink = document.createElement('div');\n",
              "          docLink.innerHTML = docLinkHtml;\n",
              "          element.appendChild(docLink);\n",
              "        }\n",
              "      </script>\n",
              "    </div>\n",
              "  </div>\n",
              "  "
            ]
          },
          "metadata": {},
          "execution_count": 35
        }
      ]
    },
    {
      "cell_type": "markdown",
      "source": [
        "### 5. Percentage of common words calculation"
      ],
      "metadata": {
        "id": "E7eCu--Ur6fj"
      }
    },
    {
      "cell_type": "code",
      "source": [
        "new_data[\"word_share\"]=round(new_data['word_common']/new_data['word_total'],2)\n",
        "print(\"After adding another one new column the dataset looks like: \")\n",
        "new_data.head()"
      ],
      "metadata": {
        "colab": {
          "base_uri": "https://localhost:8080/",
          "height": 224
        },
        "id": "r4_TOaLE_O4r",
        "outputId": "a5dea5b6-2e6e-4449-fa2e-877d83a2d120"
      },
      "execution_count": null,
      "outputs": [
        {
          "output_type": "stream",
          "name": "stdout",
          "text": [
            "After adding another one new column the dataset looks like: \n"
          ]
        },
        {
          "output_type": "execute_result",
          "data": {
            "text/plain": [
              "            id    qid1    qid2  \\\n",
              "398782  398782  496695  532029   \n",
              "115086  115086  187729  187730   \n",
              "327711  327711  454161  454162   \n",
              "367788  367788  498109  491396   \n",
              "151235  151235  237843   50930   \n",
              "\n",
              "                                                question1  \\\n",
              "398782  What is the best marketing automation tool for...   \n",
              "115086  I am poor but I want to invest. What should I do?   \n",
              "327711  I am from India and live abroad. I met a guy f...   \n",
              "367788  Why do so many people in the U.S. hate the sou...   \n",
              "151235                Consequences of Bhopal gas tragedy?   \n",
              "\n",
              "                                                question2  is_duplicate  \\\n",
              "398782  What is the best marketing automation tool for...             1   \n",
              "115086  I am quite poor and I want to be very rich. Wh...             0   \n",
              "327711  T.I.E.T to Thapar University to Thapar Univers...             0   \n",
              "367788  My boyfriend doesnt feel guilty when he hurts ...             0   \n",
              "151235  What was the reason behind the Bhopal gas trag...             0   \n",
              "\n",
              "        qs1_len  qs2_len  qs1_num_words  qs2_num_words  word_common  \\\n",
              "398782       76       77             12             12           11   \n",
              "115086       49       57             12             15            7   \n",
              "327711      105      120             25             17            2   \n",
              "367788       59      146             12             30            0   \n",
              "151235       35       50              5              9            3   \n",
              "\n",
              "        word_total  word_share  \n",
              "398782          24        0.46  \n",
              "115086          23        0.30  \n",
              "327711          34        0.06  \n",
              "367788          32        0.00  \n",
              "151235          13        0.23  "
            ],
            "text/html": [
              "\n",
              "  <div id=\"df-7fd55d82-4ac8-4d7e-a3e9-f0e2986b82b4\">\n",
              "    <div class=\"colab-df-container\">\n",
              "      <div>\n",
              "<style scoped>\n",
              "    .dataframe tbody tr th:only-of-type {\n",
              "        vertical-align: middle;\n",
              "    }\n",
              "\n",
              "    .dataframe tbody tr th {\n",
              "        vertical-align: top;\n",
              "    }\n",
              "\n",
              "    .dataframe thead th {\n",
              "        text-align: right;\n",
              "    }\n",
              "</style>\n",
              "<table border=\"1\" class=\"dataframe\">\n",
              "  <thead>\n",
              "    <tr style=\"text-align: right;\">\n",
              "      <th></th>\n",
              "      <th>id</th>\n",
              "      <th>qid1</th>\n",
              "      <th>qid2</th>\n",
              "      <th>question1</th>\n",
              "      <th>question2</th>\n",
              "      <th>is_duplicate</th>\n",
              "      <th>qs1_len</th>\n",
              "      <th>qs2_len</th>\n",
              "      <th>qs1_num_words</th>\n",
              "      <th>qs2_num_words</th>\n",
              "      <th>word_common</th>\n",
              "      <th>word_total</th>\n",
              "      <th>word_share</th>\n",
              "    </tr>\n",
              "  </thead>\n",
              "  <tbody>\n",
              "    <tr>\n",
              "      <th>398782</th>\n",
              "      <td>398782</td>\n",
              "      <td>496695</td>\n",
              "      <td>532029</td>\n",
              "      <td>What is the best marketing automation tool for...</td>\n",
              "      <td>What is the best marketing automation tool for...</td>\n",
              "      <td>1</td>\n",
              "      <td>76</td>\n",
              "      <td>77</td>\n",
              "      <td>12</td>\n",
              "      <td>12</td>\n",
              "      <td>11</td>\n",
              "      <td>24</td>\n",
              "      <td>0.46</td>\n",
              "    </tr>\n",
              "    <tr>\n",
              "      <th>115086</th>\n",
              "      <td>115086</td>\n",
              "      <td>187729</td>\n",
              "      <td>187730</td>\n",
              "      <td>I am poor but I want to invest. What should I do?</td>\n",
              "      <td>I am quite poor and I want to be very rich. Wh...</td>\n",
              "      <td>0</td>\n",
              "      <td>49</td>\n",
              "      <td>57</td>\n",
              "      <td>12</td>\n",
              "      <td>15</td>\n",
              "      <td>7</td>\n",
              "      <td>23</td>\n",
              "      <td>0.30</td>\n",
              "    </tr>\n",
              "    <tr>\n",
              "      <th>327711</th>\n",
              "      <td>327711</td>\n",
              "      <td>454161</td>\n",
              "      <td>454162</td>\n",
              "      <td>I am from India and live abroad. I met a guy f...</td>\n",
              "      <td>T.I.E.T to Thapar University to Thapar Univers...</td>\n",
              "      <td>0</td>\n",
              "      <td>105</td>\n",
              "      <td>120</td>\n",
              "      <td>25</td>\n",
              "      <td>17</td>\n",
              "      <td>2</td>\n",
              "      <td>34</td>\n",
              "      <td>0.06</td>\n",
              "    </tr>\n",
              "    <tr>\n",
              "      <th>367788</th>\n",
              "      <td>367788</td>\n",
              "      <td>498109</td>\n",
              "      <td>491396</td>\n",
              "      <td>Why do so many people in the U.S. hate the sou...</td>\n",
              "      <td>My boyfriend doesnt feel guilty when he hurts ...</td>\n",
              "      <td>0</td>\n",
              "      <td>59</td>\n",
              "      <td>146</td>\n",
              "      <td>12</td>\n",
              "      <td>30</td>\n",
              "      <td>0</td>\n",
              "      <td>32</td>\n",
              "      <td>0.00</td>\n",
              "    </tr>\n",
              "    <tr>\n",
              "      <th>151235</th>\n",
              "      <td>151235</td>\n",
              "      <td>237843</td>\n",
              "      <td>50930</td>\n",
              "      <td>Consequences of Bhopal gas tragedy?</td>\n",
              "      <td>What was the reason behind the Bhopal gas trag...</td>\n",
              "      <td>0</td>\n",
              "      <td>35</td>\n",
              "      <td>50</td>\n",
              "      <td>5</td>\n",
              "      <td>9</td>\n",
              "      <td>3</td>\n",
              "      <td>13</td>\n",
              "      <td>0.23</td>\n",
              "    </tr>\n",
              "  </tbody>\n",
              "</table>\n",
              "</div>\n",
              "      <button class=\"colab-df-convert\" onclick=\"convertToInteractive('df-7fd55d82-4ac8-4d7e-a3e9-f0e2986b82b4')\"\n",
              "              title=\"Convert this dataframe to an interactive table.\"\n",
              "              style=\"display:none;\">\n",
              "        \n",
              "  <svg xmlns=\"http://www.w3.org/2000/svg\" height=\"24px\"viewBox=\"0 0 24 24\"\n",
              "       width=\"24px\">\n",
              "    <path d=\"M0 0h24v24H0V0z\" fill=\"none\"/>\n",
              "    <path d=\"M18.56 5.44l.94 2.06.94-2.06 2.06-.94-2.06-.94-.94-2.06-.94 2.06-2.06.94zm-11 1L8.5 8.5l.94-2.06 2.06-.94-2.06-.94L8.5 2.5l-.94 2.06-2.06.94zm10 10l.94 2.06.94-2.06 2.06-.94-2.06-.94-.94-2.06-.94 2.06-2.06.94z\"/><path d=\"M17.41 7.96l-1.37-1.37c-.4-.4-.92-.59-1.43-.59-.52 0-1.04.2-1.43.59L10.3 9.45l-7.72 7.72c-.78.78-.78 2.05 0 2.83L4 21.41c.39.39.9.59 1.41.59.51 0 1.02-.2 1.41-.59l7.78-7.78 2.81-2.81c.8-.78.8-2.07 0-2.86zM5.41 20L4 18.59l7.72-7.72 1.47 1.35L5.41 20z\"/>\n",
              "  </svg>\n",
              "      </button>\n",
              "      \n",
              "  <style>\n",
              "    .colab-df-container {\n",
              "      display:flex;\n",
              "      flex-wrap:wrap;\n",
              "      gap: 12px;\n",
              "    }\n",
              "\n",
              "    .colab-df-convert {\n",
              "      background-color: #E8F0FE;\n",
              "      border: none;\n",
              "      border-radius: 50%;\n",
              "      cursor: pointer;\n",
              "      display: none;\n",
              "      fill: #1967D2;\n",
              "      height: 32px;\n",
              "      padding: 0 0 0 0;\n",
              "      width: 32px;\n",
              "    }\n",
              "\n",
              "    .colab-df-convert:hover {\n",
              "      background-color: #E2EBFA;\n",
              "      box-shadow: 0px 1px 2px rgba(60, 64, 67, 0.3), 0px 1px 3px 1px rgba(60, 64, 67, 0.15);\n",
              "      fill: #174EA6;\n",
              "    }\n",
              "\n",
              "    [theme=dark] .colab-df-convert {\n",
              "      background-color: #3B4455;\n",
              "      fill: #D2E3FC;\n",
              "    }\n",
              "\n",
              "    [theme=dark] .colab-df-convert:hover {\n",
              "      background-color: #434B5C;\n",
              "      box-shadow: 0px 1px 3px 1px rgba(0, 0, 0, 0.15);\n",
              "      filter: drop-shadow(0px 1px 2px rgba(0, 0, 0, 0.3));\n",
              "      fill: #FFFFFF;\n",
              "    }\n",
              "  </style>\n",
              "\n",
              "      <script>\n",
              "        const buttonEl =\n",
              "          document.querySelector('#df-7fd55d82-4ac8-4d7e-a3e9-f0e2986b82b4 button.colab-df-convert');\n",
              "        buttonEl.style.display =\n",
              "          google.colab.kernel.accessAllowed ? 'block' : 'none';\n",
              "\n",
              "        async function convertToInteractive(key) {\n",
              "          const element = document.querySelector('#df-7fd55d82-4ac8-4d7e-a3e9-f0e2986b82b4');\n",
              "          const dataTable =\n",
              "            await google.colab.kernel.invokeFunction('convertToInteractive',\n",
              "                                                     [key], {});\n",
              "          if (!dataTable) return;\n",
              "\n",
              "          const docLinkHtml = 'Like what you see? Visit the ' +\n",
              "            '<a target=\"_blank\" href=https://colab.research.google.com/notebooks/data_table.ipynb>data table notebook</a>'\n",
              "            + ' to learn more about interactive tables.';\n",
              "          element.innerHTML = '';\n",
              "          dataTable['output_type'] = 'display_data';\n",
              "          await google.colab.output.renderOutput(dataTable, element);\n",
              "          const docLink = document.createElement('div');\n",
              "          docLink.innerHTML = docLinkHtml;\n",
              "          element.appendChild(docLink);\n",
              "        }\n",
              "      </script>\n",
              "    </div>\n",
              "  </div>\n",
              "  "
            ]
          },
          "metadata": {},
          "execution_count": 36
        }
      ]
    },
    {
      "cell_type": "markdown",
      "source": [
        "### Analysis of features"
      ],
      "metadata": {
        "id": "kwrnNVoqspUt"
      }
    },
    {
      "cell_type": "markdown",
      "source": [
        "### 1.Qs1_len"
      ],
      "metadata": {
        "id": "GM1o8a6-7Cza"
      }
    },
    {
      "cell_type": "code",
      "source": [
        "print(\"Basic summary of qs1_len\")\n",
        "print(\"Minimum characters : \", new_data['qs1_len'].min())\n",
        "print(\"Maximum characters : \", new_data['qs1_len'].max())\n",
        "print(\"Average characters : \", int(new_data['qs1_len'].mean()))"
      ],
      "metadata": {
        "colab": {
          "base_uri": "https://localhost:8080/"
        },
        "id": "2QEJFNdh_O7F",
        "outputId": "9ad9db45-8531-45d4-ec91-b0882651b6d9"
      },
      "execution_count": null,
      "outputs": [
        {
          "output_type": "stream",
          "name": "stdout",
          "text": [
            "Basic summary of qs1_len\n",
            "Minimum characters :  2\n",
            "Maximum characters :  391\n",
            "Average characters :  59\n"
          ]
        }
      ]
    },
    {
      "cell_type": "code",
      "source": [
        "plt.figure(figsize=[8,5])\n",
        "sns.distplot(new_data['qs1_len'],\n",
        "             bins=160,\n",
        "             hist=True,\n",
        "             kde=True,\n",
        "             color=\"orange\")\n",
        "\n",
        "plt.title(\"Distribution of qs1_len\" ,\n",
        "          size= 20,\n",
        "          color=\"Maroon\"\n",
        "         )\n",
        "\n",
        "plt.xlabel(\"qs1_len\",\n",
        "            size = 15\n",
        "          )\n",
        "\n",
        "plt.ylabel(\"Density\",\n",
        "           size=15\n",
        "          )\n",
        "\n",
        "\n",
        "plt.show()         \n",
        "\n",
        "                        "
      ],
      "metadata": {
        "colab": {
          "base_uri": "https://localhost:8080/",
          "height": 361
        },
        "id": "vd11JaqE5N5V",
        "outputId": "94db6334-892d-46ae-ee71-bfc548ea8d7b"
      },
      "execution_count": null,
      "outputs": [
        {
          "output_type": "display_data",
          "data": {
            "text/plain": [
              "<Figure size 576x360 with 1 Axes>"
            ],
            "image/png": "[encoded data removed]"
          },
          "metadata": {
            "needs_background": "light"
          }
        }
      ]
    },
    {
      "cell_type": "markdown",
      "source": [
        "### 2. Qs2_len"
      ],
      "metadata": {
        "id": "97hvTuGo7HF5"
      }
    },
    {
      "cell_type": "code",
      "source": [
        "print(\"Basic summary of qs2_len\")\n",
        "print(\"Minimum characters : \", new_data['qs2_len'].min())\n",
        "print(\"Maximum characters : \", new_data['qs2_len'].max())\n",
        "print(\"Average characters : \", int(new_data['qs2_len'].mean()))"
      ],
      "metadata": {
        "colab": {
          "base_uri": "https://localhost:8080/"
        },
        "id": "fXm05ad52Ilp",
        "outputId": "1fd32670-0563-4be5-ec3b-b59f0bb52b23"
      },
      "execution_count": null,
      "outputs": [
        {
          "output_type": "stream",
          "name": "stdout",
          "text": [
            "Basic summary of qs2_len\n",
            "Minimum characters :  6\n",
            "Maximum characters :  1151\n",
            "Average characters :  60\n"
          ]
        }
      ]
    },
    {
      "cell_type": "code",
      "source": [
        "plt.figure(figsize=[8,5])\n",
        "sns.distplot(new_data['qs2_len'],\n",
        "             bins=160,\n",
        "             hist=True,\n",
        "             kde=True,\n",
        "             color=\"brown\")\n",
        "\n",
        "plt.title(\"Distribution of qs2_len\" ,\n",
        "          size= 20,\n",
        "          color=\"Maroon\"\n",
        "         )\n",
        "\n",
        "plt.xlabel(\"qs2_len\",\n",
        "            size = 15\n",
        "          )\n",
        "\n",
        "plt.ylabel(\"Density\",\n",
        "           size=15\n",
        "          )\n",
        "\n",
        "\n",
        "plt.show()         \n",
        "\n",
        "                                     \n",
        "                                    "
      ],
      "metadata": {
        "colab": {
          "base_uri": "https://localhost:8080/",
          "height": 361
        },
        "id": "tm2_RS___O9I",
        "outputId": "60c520fa-19ad-4b84-9a7f-b0170dd57a7c"
      },
      "execution_count": null,
      "outputs": [
        {
          "output_type": "display_data",
          "data": {
            "text/plain": [
              "<Figure size 576x360 with 1 Axes>"
            ],
            "image/png": "[encoded data removed]"
          },
          "metadata": {
            "needs_background": "light"
          }
        }
      ]
    },
    {
      "cell_type": "markdown",
      "source": [
        "### 3.Qs1_num_words"
      ],
      "metadata": {
        "id": "J1mzo6Qn7Pb3"
      }
    },
    {
      "cell_type": "code",
      "source": [
        "print(\"Basic summary of qs1_num_words\")\n",
        "print(\"Minimum characters : \", new_data['qs1_num_words'].min())\n",
        "print(\"Maximum characters : \", new_data['qs1_num_words'].max())\n",
        "print(\"Average characters : \", int(new_data['qs1_num_words'].mean()))"
      ],
      "metadata": {
        "colab": {
          "base_uri": "https://localhost:8080/"
        },
        "id": "Z1reVSQR_PAJ",
        "outputId": "b7319d9d-1dbb-4aa4-d5f7-de6b1ab80c5a"
      },
      "execution_count": null,
      "outputs": [
        {
          "output_type": "stream",
          "name": "stdout",
          "text": [
            "Basic summary of qs1_num_words\n",
            "Minimum characters :  1\n",
            "Maximum characters :  72\n",
            "Average characters :  10\n"
          ]
        }
      ]
    },
    {
      "cell_type": "code",
      "source": [
        "plt.figure(figsize=[8,5])\n",
        "sns.distplot(new_data['qs1_num_words'],\n",
        "             bins=160,\n",
        "             hist=True,\n",
        "             kde=True,\n",
        "             color=\"darkgreen\")\n",
        "\n",
        "plt.title(\"Distribution of qs1_num_words\" ,\n",
        "          size= 20,\n",
        "          color=\"Maroon\"\n",
        "         )\n",
        "\n",
        "plt.xlabel(\"qs1_num_words\",\n",
        "            size = 15\n",
        "          )\n",
        "\n",
        "plt.ylabel(\"Count\",\n",
        "           size=15\n",
        "          )\n",
        "\n",
        "\n",
        "plt.show()         \n",
        "\n",
        "                        "
      ],
      "metadata": {
        "colab": {
          "base_uri": "https://localhost:8080/",
          "height": 361
        },
        "id": "kEH1qsGZ_PC1",
        "outputId": "d913d1bf-79db-4caf-f47c-b3506a05c9d9"
      },
      "execution_count": null,
      "outputs": [
        {
          "output_type": "display_data",
          "data": {
            "text/plain": [
              "<Figure size 576x360 with 1 Axes>"
            ],
            "image/png": "[encoded data removed]"
          },
          "metadata": {
            "needs_background": "light"
          }
        }
      ]
    },
    {
      "cell_type": "markdown",
      "source": [
        "### 4. Qs2_num_words"
      ],
      "metadata": {
        "id": "RYxOdRW57UZi"
      }
    },
    {
      "cell_type": "code",
      "source": [
        "print(\"Basic summary of qs2_num_words\")\n",
        "print(\"Minimum characters : \", new_data['qs2_num_words'].min())\n",
        "print(\"Maximum characters : \", new_data['qs2_num_words'].max())\n",
        "print(\"Average characters : \", int(new_data['qs2_num_words'].mean()))"
      ],
      "metadata": {
        "colab": {
          "base_uri": "https://localhost:8080/"
        },
        "id": "QCctGu4x6mxr",
        "outputId": "c85e61c6-2850-4810-934b-ed204ea1f1a4"
      },
      "execution_count": null,
      "outputs": [
        {
          "output_type": "stream",
          "name": "stdout",
          "text": [
            "Basic summary of qs2_num_words\n",
            "Minimum characters :  1\n",
            "Maximum characters :  237\n",
            "Average characters :  11\n"
          ]
        }
      ]
    },
    {
      "cell_type": "code",
      "source": [
        "plt.figure(figsize=[8,5])\n",
        "sns.distplot(new_data['qs2_num_words'],\n",
        "             bins=160,\n",
        "             hist=True,\n",
        "             kde=True,\n",
        "             color=\"darkorchid\")\n",
        "\n",
        "plt.title(\"Distribution of qs2_num_words\" ,\n",
        "          size= 20,\n",
        "          color=\"Maroon\"\n",
        "         )\n",
        "\n",
        "plt.xlabel(\"qs2_num_words\",\n",
        "            size = 15\n",
        "          )\n",
        "\n",
        "plt.ylabel(\"Count\",\n",
        "           size=15\n",
        "          )\n",
        "\n",
        "\n",
        "plt.show()         \n",
        "\n",
        "                        "
      ],
      "metadata": {
        "colab": {
          "base_uri": "https://localhost:8080/",
          "height": 361
        },
        "id": "6_v92Kn5_PGG",
        "outputId": "f2d60138-c907-435f-c51a-2a378b780a2d"
      },
      "execution_count": null,
      "outputs": [
        {
          "output_type": "display_data",
          "data": {
            "text/plain": [
              "<Figure size 576x360 with 1 Axes>"
            ],
            "image/png": "[encoded data removed]"
          },
          "metadata": {
            "needs_background": "light"
          }
        }
      ]
    },
    {
      "cell_type": "markdown",
      "source": [
        "### 5. Common words"
      ],
      "metadata": {
        "id": "pTs3Vo2-lBqU"
      }
    },
    {
      "cell_type": "code",
      "source": [
        "print(\"Basic summary of word_common\")\n",
        "print(\"Minimum characters : \", new_data['word_common'].min())\n",
        "print(\"Maximum characters : \", new_data['word_common'].max())\n",
        "print(\"Average characters : \", int(new_data['word_common'].mean()))"
      ],
      "metadata": {
        "colab": {
          "base_uri": "https://localhost:8080/"
        },
        "id": "rjbPPg40lZk0",
        "outputId": "1f9f1108-1a5a-4e37-9c4d-2eba651da2f2"
      },
      "execution_count": null,
      "outputs": [
        {
          "output_type": "stream",
          "name": "stdout",
          "text": [
            "Basic summary of word_common\n",
            "Minimum characters :  0\n",
            "Maximum characters :  38\n",
            "Average characters :  4\n"
          ]
        }
      ]
    },
    {
      "cell_type": "code",
      "source": [
        "plt.figure(figsize=(9,6))\n",
        "\n",
        "sns.distplot(new_data[new_data[\"is_duplicate\"]==0][\"word_common\"], \n",
        "             label=\"non duplicate\",\n",
        "             color=\"limegreen\")\n",
        "\n",
        "sns.distplot(new_data[new_data[\"is_duplicate\"]==1][\"word_common\"], \n",
        "             label=\"duplicate\",\n",
        "             color=\"midnightblue\")\n",
        "\n",
        "plt.legend()\n",
        "\n",
        "plt.title(\"Distribution of common words\" ,\n",
        "          size= 20,\n",
        "          color=\"Maroon\"\n",
        "         )\n",
        "\n",
        "plt.xlabel(\"word_common\",\n",
        "            size = 15\n",
        "          )\n",
        "\n",
        "plt.ylabel(\"Density\",\n",
        "           size=15\n",
        "          )\n",
        "\n",
        "\n",
        "plt.show()         \n"
      ],
      "metadata": {
        "colab": {
          "base_uri": "https://localhost:8080/",
          "height": 415
        },
        "id": "D7HeZee3_PIg",
        "outputId": "7e87d6ea-fe86-45fa-f999-b3899569965e"
      },
      "execution_count": null,
      "outputs": [
        {
          "output_type": "display_data",
          "data": {
            "text/plain": [
              "<Figure size 648x432 with 1 Axes>"
            ],
            "image/png": "[encoded data removed]"
          },
          "metadata": {
            "needs_background": "light"
          }
        }
      ]
    },
    {
      "cell_type": "markdown",
      "source": [
        "### 6. Word total"
      ],
      "metadata": {
        "id": "HGQt9uvYm-dE"
      }
    },
    {
      "cell_type": "code",
      "source": [
        "print(\"Basic summary of word_total\")\n",
        "print(\"Minimum characters : \", new_data['word_total'].min())\n",
        "print(\"Maximum characters : \", new_data['word_total'].max())\n",
        "print(\"Average characters : \", int(new_data['word_total'].mean()))"
      ],
      "metadata": {
        "colab": {
          "base_uri": "https://localhost:8080/"
        },
        "id": "6y77rkeK_PLI",
        "outputId": "ead6449b-7bd3-49ca-a923-d7dcec4c925b"
      },
      "execution_count": null,
      "outputs": [
        {
          "output_type": "stream",
          "name": "stdout",
          "text": [
            "Basic summary of word_total\n",
            "Minimum characters :  4\n",
            "Maximum characters :  139\n",
            "Average characters :  21\n"
          ]
        }
      ]
    },
    {
      "cell_type": "code",
      "source": [
        "plt.figure(figsize=(9,6))\n",
        "\n",
        "sns.distplot(new_data[new_data[\"is_duplicate\"]==0][\"word_total\"], \n",
        "             label=\"non duplicate\",\n",
        "             color=\"limegreen\")\n",
        "\n",
        "sns.distplot(new_data[new_data[\"is_duplicate\"]==1][\"word_total\"], \n",
        "             label=\"duplicate\",\n",
        "             color=\"midnightblue\")\n",
        "\n",
        "plt.legend()\n",
        "\n",
        "plt.title(\"Distribution of  words totals\" ,\n",
        "          size= 20,\n",
        "          color=\"Maroon\"\n",
        "         )\n",
        "\n",
        "plt.xlabel(\"word_total\",\n",
        "            size = 15\n",
        "          )\n",
        "\n",
        "plt.ylabel(\"Density\",\n",
        "           size=15\n",
        "          )\n",
        "\n",
        "\n",
        "plt.show()       "
      ],
      "metadata": {
        "colab": {
          "base_uri": "https://localhost:8080/",
          "height": 415
        },
        "id": "lSheFTp1_PN2",
        "outputId": "e69ab3f2-9101-460c-d499-56f9e35f7cef"
      },
      "execution_count": null,
      "outputs": [
        {
          "output_type": "display_data",
          "data": {
            "text/plain": [
              "<Figure size 648x432 with 1 Axes>"
            ],
            "image/png": "[encoded data removed]"
          },
          "metadata": {
            "needs_background": "light"
          }
        }
      ]
    },
    {
      "cell_type": "markdown",
      "source": [
        "### 7. word share"
      ],
      "metadata": {
        "id": "3cbzU8R5oIYk"
      }
    },
    {
      "cell_type": "code",
      "source": [
        "print(\"Basic summary of word_share\")\n",
        "print(\"Minimum characters : \", new_data['word_share'].min())\n",
        "print(\"Maximum characters : \", new_data['word_share'].max())\n",
        "print(\"Average characters : \", int(new_data['word_share'].mean()))"
      ],
      "metadata": {
        "colab": {
          "base_uri": "https://localhost:8080/"
        },
        "id": "tZQwzhS_oMoa",
        "outputId": "547e0bfe-1566-4256-c747-af7c3bf4e4f8"
      },
      "execution_count": null,
      "outputs": [
        {
          "output_type": "stream",
          "name": "stdout",
          "text": [
            "Basic summary of word_share\n",
            "Minimum characters :  0.0\n",
            "Maximum characters :  0.5\n",
            "Average characters :  0\n"
          ]
        }
      ]
    },
    {
      "cell_type": "code",
      "source": [
        "plt.figure(figsize=(9,6))\n",
        "\n",
        "sns.distplot(new_data[new_data[\"is_duplicate\"]==0][\"word_share\"], \n",
        "             label=\"non duplicate\",\n",
        "             color=\"limegreen\")\n",
        "\n",
        "sns.distplot(new_data[new_data[\"is_duplicate\"]==1][\"word_share\"], \n",
        "             label=\"duplicate\",\n",
        "             color=\"midnightblue\")\n",
        "\n",
        "plt.legend()\n",
        "\n",
        "plt.title(\"Distribution of  word_share\" ,\n",
        "          size= 20,\n",
        "          color=\"Maroon\"\n",
        "         )\n",
        "\n",
        "plt.xlabel(\"word_share\",\n",
        "            size = 15\n",
        "          )\n",
        "\n",
        "plt.ylabel(\"Density\",\n",
        "           size=15\n",
        "          )\n",
        "\n",
        "\n",
        "plt.show()       "
      ],
      "metadata": {
        "colab": {
          "base_uri": "https://localhost:8080/",
          "height": 415
        },
        "id": "cBT47vuGoVlr",
        "outputId": "a6fa4b7d-fce5-4583-d578-4b6afafb6128"
      },
      "execution_count": null,
      "outputs": [
        {
          "output_type": "display_data",
          "data": {
            "text/plain": [
              "<Figure size 648x432 with 1 Axes>"
            ],
            "image/png": "[encoded data removed]"
          },
          "metadata": {
            "needs_background": "light"
          }
        }
      ]
    },
    {
      "cell_type": "markdown",
      "source": [
        "## Dataset splitting\n",
        "\n",
        "#### Spliting the above dataset into two datasets one is question dataset which contains question1 and question2 and the another is numeric dataset which contains is_duplicate, qs1_len, qs2_len, qs1_num_words, qs2_num_words, word_common, word_total, word_share."
      ],
      "metadata": {
        "id": "Q9s8zjGL0gmt"
      }
    },
    {
      "cell_type": "code",
      "source": [
        "qs_data=new_data[[\"question1\" ,\t\"question2\"]]\n",
        "num_data=new_data[[\"is_duplicate\" ,\t\"qs1_len\" ,\t\"qs2_len\" ,\t\"qs1_num_words\" ,\t\"qs2_num_words\" ,\t\"word_common\" ,\t\"word_total\" ,\t\"word_share\"]]"
      ],
      "metadata": {
        "id": "Gu4z2vROq54Z"
      },
      "execution_count": null,
      "outputs": []
    },
    {
      "cell_type": "code",
      "source": [
        "print(\"The question dataset is given by: \\n\")\n",
        "qs_data.head()"
      ],
      "metadata": {
        "colab": {
          "base_uri": "https://localhost:8080/",
          "height": 241
        },
        "id": "W-hVHomvzffe",
        "outputId": "709c6fde-e5fb-464e-e573-9768fbdca7da"
      },
      "execution_count": null,
      "outputs": [
        {
          "output_type": "stream",
          "name": "stdout",
          "text": [
            "The question dataset is given by: \n",
            "\n"
          ]
        },
        {
          "output_type": "execute_result",
          "data": {
            "text/plain": [
              "                                                question1  \\\n",
              "398782  What is the best marketing automation tool for...   \n",
              "115086  I am poor but I want to invest. What should I do?   \n",
              "327711  I am from India and live abroad. I met a guy f...   \n",
              "367788  Why do so many people in the U.S. hate the sou...   \n",
              "151235                Consequences of Bhopal gas tragedy?   \n",
              "\n",
              "                                                question2  \n",
              "398782  What is the best marketing automation tool for...  \n",
              "115086  I am quite poor and I want to be very rich. Wh...  \n",
              "327711  T.I.E.T to Thapar University to Thapar Univers...  \n",
              "367788  My boyfriend doesnt feel guilty when he hurts ...  \n",
              "151235  What was the reason behind the Bhopal gas trag...  "
            ],
            "text/html": [
              "\n",
              "  <div id=\"df-6ac65719-4248-4290-9284-475d7a67f5d0\">\n",
              "    <div class=\"colab-df-container\">\n",
              "      <div>\n",
              "<style scoped>\n",
              "    .dataframe tbody tr th:only-of-type {\n",
              "        vertical-align: middle;\n",
              "    }\n",
              "\n",
              "    .dataframe tbody tr th {\n",
              "        vertical-align: top;\n",
              "    }\n",
              "\n",
              "    .dataframe thead th {\n",
              "        text-align: right;\n",
              "    }\n",
              "</style>\n",
              "<table border=\"1\" class=\"dataframe\">\n",
              "  <thead>\n",
              "    <tr style=\"text-align: right;\">\n",
              "      <th></th>\n",
              "      <th>question1</th>\n",
              "      <th>question2</th>\n",
              "    </tr>\n",
              "  </thead>\n",
              "  <tbody>\n",
              "    <tr>\n",
              "      <th>398782</th>\n",
              "      <td>What is the best marketing automation tool for...</td>\n",
              "      <td>What is the best marketing automation tool for...</td>\n",
              "    </tr>\n",
              "    <tr>\n",
              "      <th>115086</th>\n",
              "      <td>I am poor but I want to invest. What should I do?</td>\n",
              "      <td>I am quite poor and I want to be very rich. Wh...</td>\n",
              "    </tr>\n",
              "    <tr>\n",
              "      <th>327711</th>\n",
              "      <td>I am from India and live abroad. I met a guy f...</td>\n",
              "      <td>T.I.E.T to Thapar University to Thapar Univers...</td>\n",
              "    </tr>\n",
              "    <tr>\n",
              "      <th>367788</th>\n",
              "      <td>Why do so many people in the U.S. hate the sou...</td>\n",
              "      <td>My boyfriend doesnt feel guilty when he hurts ...</td>\n",
              "    </tr>\n",
              "    <tr>\n",
              "      <th>151235</th>\n",
              "      <td>Consequences of Bhopal gas tragedy?</td>\n",
              "      <td>What was the reason behind the Bhopal gas trag...</td>\n",
              "    </tr>\n",
              "  </tbody>\n",
              "</table>\n",
              "</div>\n",
              "      <button class=\"colab-df-convert\" onclick=\"convertToInteractive('df-6ac65719-4248-4290-9284-475d7a67f5d0')\"\n",
              "              title=\"Convert this dataframe to an interactive table.\"\n",
              "              style=\"display:none;\">\n",
              "        \n",
              "  <svg xmlns=\"http://www.w3.org/2000/svg\" height=\"24px\"viewBox=\"0 0 24 24\"\n",
              "       width=\"24px\">\n",
              "    <path d=\"M0 0h24v24H0V0z\" fill=\"none\"/>\n",
              "    <path d=\"M18.56 5.44l.94 2.06.94-2.06 2.06-.94-2.06-.94-.94-2.06-.94 2.06-2.06.94zm-11 1L8.5 8.5l.94-2.06 2.06-.94-2.06-.94L8.5 2.5l-.94 2.06-2.06.94zm10 10l.94 2.06.94-2.06 2.06-.94-2.06-.94-.94-2.06-.94 2.06-2.06.94z\"/><path d=\"M17.41 7.96l-1.37-1.37c-.4-.4-.92-.59-1.43-.59-.52 0-1.04.2-1.43.59L10.3 9.45l-7.72 7.72c-.78.78-.78 2.05 0 2.83L4 21.41c.39.39.9.59 1.41.59.51 0 1.02-.2 1.41-.59l7.78-7.78 2.81-2.81c.8-.78.8-2.07 0-2.86zM5.41 20L4 18.59l7.72-7.72 1.47 1.35L5.41 20z\"/>\n",
              "  </svg>\n",
              "      </button>\n",
              "      \n",
              "  <style>\n",
              "    .colab-df-container {\n",
              "      display:flex;\n",
              "      flex-wrap:wrap;\n",
              "      gap: 12px;\n",
              "    }\n",
              "\n",
              "    .colab-df-convert {\n",
              "      background-color: #E8F0FE;\n",
              "      border: none;\n",
              "      border-radius: 50%;\n",
              "      cursor: pointer;\n",
              "      display: none;\n",
              "      fill: #1967D2;\n",
              "      height: 32px;\n",
              "      padding: 0 0 0 0;\n",
              "      width: 32px;\n",
              "    }\n",
              "\n",
              "    .colab-df-convert:hover {\n",
              "      background-color: #E2EBFA;\n",
              "      box-shadow: 0px 1px 2px rgba(60, 64, 67, 0.3), 0px 1px 3px 1px rgba(60, 64, 67, 0.15);\n",
              "      fill: #174EA6;\n",
              "    }\n",
              "\n",
              "    [theme=dark] .colab-df-convert {\n",
              "      background-color: #3B4455;\n",
              "      fill: #D2E3FC;\n",
              "    }\n",
              "\n",
              "    [theme=dark] .colab-df-convert:hover {\n",
              "      background-color: #434B5C;\n",
              "      box-shadow: 0px 1px 3px 1px rgba(0, 0, 0, 0.15);\n",
              "      filter: drop-shadow(0px 1px 2px rgba(0, 0, 0, 0.3));\n",
              "      fill: #FFFFFF;\n",
              "    }\n",
              "  </style>\n",
              "\n",
              "      <script>\n",
              "        const buttonEl =\n",
              "          document.querySelector('#df-6ac65719-4248-4290-9284-475d7a67f5d0 button.colab-df-convert');\n",
              "        buttonEl.style.display =\n",
              "          google.colab.kernel.accessAllowed ? 'block' : 'none';\n",
              "\n",
              "        async function convertToInteractive(key) {\n",
              "          const element = document.querySelector('#df-6ac65719-4248-4290-9284-475d7a67f5d0');\n",
              "          const dataTable =\n",
              "            await google.colab.kernel.invokeFunction('convertToInteractive',\n",
              "                                                     [key], {});\n",
              "          if (!dataTable) return;\n",
              "\n",
              "          const docLinkHtml = 'Like what you see? Visit the ' +\n",
              "            '<a target=\"_blank\" href=https://colab.research.google.com/notebooks/data_table.ipynb>data table notebook</a>'\n",
              "            + ' to learn more about interactive tables.';\n",
              "          element.innerHTML = '';\n",
              "          dataTable['output_type'] = 'display_data';\n",
              "          await google.colab.output.renderOutput(dataTable, element);\n",
              "          const docLink = document.createElement('div');\n",
              "          docLink.innerHTML = docLinkHtml;\n",
              "          element.appendChild(docLink);\n",
              "        }\n",
              "      </script>\n",
              "    </div>\n",
              "  </div>\n",
              "  "
            ]
          },
          "metadata": {},
          "execution_count": 52
        }
      ]
    },
    {
      "cell_type": "code",
      "source": [
        "print(\"The numeric dataset is given by: \\n\")\n",
        "num_data.head()"
      ],
      "metadata": {
        "colab": {
          "base_uri": "https://localhost:8080/",
          "height": 241
        },
        "id": "_pSSGJVszuOS",
        "outputId": "482a5dcd-f465-4056-a3eb-79110d7700a5"
      },
      "execution_count": null,
      "outputs": [
        {
          "output_type": "stream",
          "name": "stdout",
          "text": [
            "The numeric dataset is given by: \n",
            "\n"
          ]
        },
        {
          "output_type": "execute_result",
          "data": {
            "text/plain": [
              "        is_duplicate  qs1_len  qs2_len  qs1_num_words  qs2_num_words  \\\n",
              "398782             1       76       77             12             12   \n",
              "115086             0       49       57             12             15   \n",
              "327711             0      105      120             25             17   \n",
              "367788             0       59      146             12             30   \n",
              "151235             0       35       50              5              9   \n",
              "\n",
              "        word_common  word_total  word_share  \n",
              "398782           11          24        0.46  \n",
              "115086            7          23        0.30  \n",
              "327711            2          34        0.06  \n",
              "367788            0          32        0.00  \n",
              "151235            3          13        0.23  "
            ],
            "text/html": [
              "\n",
              "  <div id=\"df-795284f4-7e20-46e6-b15c-086bb1633fc5\">\n",
              "    <div class=\"colab-df-container\">\n",
              "      <div>\n",
              "<style scoped>\n",
              "    .dataframe tbody tr th:only-of-type {\n",
              "        vertical-align: middle;\n",
              "    }\n",
              "\n",
              "    .dataframe tbody tr th {\n",
              "        vertical-align: top;\n",
              "    }\n",
              "\n",
              "    .dataframe thead th {\n",
              "        text-align: right;\n",
              "    }\n",
              "</style>\n",
              "<table border=\"1\" class=\"dataframe\">\n",
              "  <thead>\n",
              "    <tr style=\"text-align: right;\">\n",
              "      <th></th>\n",
              "      <th>is_duplicate</th>\n",
              "      <th>qs1_len</th>\n",
              "      <th>qs2_len</th>\n",
              "      <th>qs1_num_words</th>\n",
              "      <th>qs2_num_words</th>\n",
              "      <th>word_common</th>\n",
              "      <th>word_total</th>\n",
              "      <th>word_share</th>\n",
              "    </tr>\n",
              "  </thead>\n",
              "  <tbody>\n",
              "    <tr>\n",
              "      <th>398782</th>\n",
              "      <td>1</td>\n",
              "      <td>76</td>\n",
              "      <td>77</td>\n",
              "      <td>12</td>\n",
              "      <td>12</td>\n",
              "      <td>11</td>\n",
              "      <td>24</td>\n",
              "      <td>0.46</td>\n",
              "    </tr>\n",
              "    <tr>\n",
              "      <th>115086</th>\n",
              "      <td>0</td>\n",
              "      <td>49</td>\n",
              "      <td>57</td>\n",
              "      <td>12</td>\n",
              "      <td>15</td>\n",
              "      <td>7</td>\n",
              "      <td>23</td>\n",
              "      <td>0.30</td>\n",
              "    </tr>\n",
              "    <tr>\n",
              "      <th>327711</th>\n",
              "      <td>0</td>\n",
              "      <td>105</td>\n",
              "      <td>120</td>\n",
              "      <td>25</td>\n",
              "      <td>17</td>\n",
              "      <td>2</td>\n",
              "      <td>34</td>\n",
              "      <td>0.06</td>\n",
              "    </tr>\n",
              "    <tr>\n",
              "      <th>367788</th>\n",
              "      <td>0</td>\n",
              "      <td>59</td>\n",
              "      <td>146</td>\n",
              "      <td>12</td>\n",
              "      <td>30</td>\n",
              "      <td>0</td>\n",
              "      <td>32</td>\n",
              "      <td>0.00</td>\n",
              "    </tr>\n",
              "    <tr>\n",
              "      <th>151235</th>\n",
              "      <td>0</td>\n",
              "      <td>35</td>\n",
              "      <td>50</td>\n",
              "      <td>5</td>\n",
              "      <td>9</td>\n",
              "      <td>3</td>\n",
              "      <td>13</td>\n",
              "      <td>0.23</td>\n",
              "    </tr>\n",
              "  </tbody>\n",
              "</table>\n",
              "</div>\n",
              "      <button class=\"colab-df-convert\" onclick=\"convertToInteractive('df-795284f4-7e20-46e6-b15c-086bb1633fc5')\"\n",
              "              title=\"Convert this dataframe to an interactive table.\"\n",
              "              style=\"display:none;\">\n",
              "        \n",
              "  <svg xmlns=\"http://www.w3.org/2000/svg\" height=\"24px\"viewBox=\"0 0 24 24\"\n",
              "       width=\"24px\">\n",
              "    <path d=\"M0 0h24v24H0V0z\" fill=\"none\"/>\n",
              "    <path d=\"M18.56 5.44l.94 2.06.94-2.06 2.06-.94-2.06-.94-.94-2.06-.94 2.06-2.06.94zm-11 1L8.5 8.5l.94-2.06 2.06-.94-2.06-.94L8.5 2.5l-.94 2.06-2.06.94zm10 10l.94 2.06.94-2.06 2.06-.94-2.06-.94-.94-2.06-.94 2.06-2.06.94z\"/><path d=\"M17.41 7.96l-1.37-1.37c-.4-.4-.92-.59-1.43-.59-.52 0-1.04.2-1.43.59L10.3 9.45l-7.72 7.72c-.78.78-.78 2.05 0 2.83L4 21.41c.39.39.9.59 1.41.59.51 0 1.02-.2 1.41-.59l7.78-7.78 2.81-2.81c.8-.78.8-2.07 0-2.86zM5.41 20L4 18.59l7.72-7.72 1.47 1.35L5.41 20z\"/>\n",
              "  </svg>\n",
              "      </button>\n",
              "      \n",
              "  <style>\n",
              "    .colab-df-container {\n",
              "      display:flex;\n",
              "      flex-wrap:wrap;\n",
              "      gap: 12px;\n",
              "    }\n",
              "\n",
              "    .colab-df-convert {\n",
              "      background-color: #E8F0FE;\n",
              "      border: none;\n",
              "      border-radius: 50%;\n",
              "      cursor: pointer;\n",
              "      display: none;\n",
              "      fill: #1967D2;\n",
              "      height: 32px;\n",
              "      padding: 0 0 0 0;\n",
              "      width: 32px;\n",
              "    }\n",
              "\n",
              "    .colab-df-convert:hover {\n",
              "      background-color: #E2EBFA;\n",
              "      box-shadow: 0px 1px 2px rgba(60, 64, 67, 0.3), 0px 1px 3px 1px rgba(60, 64, 67, 0.15);\n",
              "      fill: #174EA6;\n",
              "    }\n",
              "\n",
              "    [theme=dark] .colab-df-convert {\n",
              "      background-color: #3B4455;\n",
              "      fill: #D2E3FC;\n",
              "    }\n",
              "\n",
              "    [theme=dark] .colab-df-convert:hover {\n",
              "      background-color: #434B5C;\n",
              "      box-shadow: 0px 1px 3px 1px rgba(0, 0, 0, 0.15);\n",
              "      filter: drop-shadow(0px 1px 2px rgba(0, 0, 0, 0.3));\n",
              "      fill: #FFFFFF;\n",
              "    }\n",
              "  </style>\n",
              "\n",
              "      <script>\n",
              "        const buttonEl =\n",
              "          document.querySelector('#df-795284f4-7e20-46e6-b15c-086bb1633fc5 button.colab-df-convert');\n",
              "        buttonEl.style.display =\n",
              "          google.colab.kernel.accessAllowed ? 'block' : 'none';\n",
              "\n",
              "        async function convertToInteractive(key) {\n",
              "          const element = document.querySelector('#df-795284f4-7e20-46e6-b15c-086bb1633fc5');\n",
              "          const dataTable =\n",
              "            await google.colab.kernel.invokeFunction('convertToInteractive',\n",
              "                                                     [key], {});\n",
              "          if (!dataTable) return;\n",
              "\n",
              "          const docLinkHtml = 'Like what you see? Visit the ' +\n",
              "            '<a target=\"_blank\" href=https://colab.research.google.com/notebooks/data_table.ipynb>data table notebook</a>'\n",
              "            + ' to learn more about interactive tables.';\n",
              "          element.innerHTML = '';\n",
              "          dataTable['output_type'] = 'display_data';\n",
              "          await google.colab.output.renderOutput(dataTable, element);\n",
              "          const docLink = document.createElement('div');\n",
              "          docLink.innerHTML = docLinkHtml;\n",
              "          element.appendChild(docLink);\n",
              "        }\n",
              "      </script>\n",
              "    </div>\n",
              "  </div>\n",
              "  "
            ]
          },
          "metadata": {},
          "execution_count": 53
        }
      ]
    },
    {
      "cell_type": "code",
      "source": [
        "print(\"The shapes of the new 2 data frame is given by: \\n\")\n",
        "\n",
        "print(\"Question dataset : \", qs_data.shape)\n",
        "\n",
        "print(\"\\nNumeric dataset: \", num_data.shape)"
      ],
      "metadata": {
        "colab": {
          "base_uri": "https://localhost:8080/"
        },
        "id": "IP3nfGVCqs-B",
        "outputId": "2648d81f-0391-4951-d233-6d7fb6fae58b"
      },
      "execution_count": null,
      "outputs": [
        {
          "output_type": "stream",
          "name": "stdout",
          "text": [
            "The shapes of the new 2 data frame is given by: \n",
            "\n",
            "Question dataset :  (30000, 2)\n",
            "\n",
            "Numeric dataset:  (30000, 8)\n"
          ]
        }
      ]
    },
    {
      "cell_type": "markdown",
      "source": [
        "## Text merging"
      ],
      "metadata": {
        "id": "O7_rg9C57yRb"
      }
    },
    {
      "cell_type": "code",
      "source": [
        "from sklearn.feature_extraction.text import CountVectorizer"
      ],
      "metadata": {
        "id": "3X8r1bCuqs6B"
      },
      "execution_count": null,
      "outputs": []
    },
    {
      "cell_type": "code",
      "source": [
        "questions=(list(qs_data[\"question1\"])+list(qs_data[\"question2\"]))\n",
        "cove=CountVectorizer(max_features=3000)\n",
        "qs1_array,qs2_array=np.vsplit(cove.fit_transform(questions).toarray(),2)"
      ],
      "metadata": {
        "id": "3erq7YOLqs3s"
      },
      "execution_count": null,
      "outputs": []
    },
    {
      "cell_type": "code",
      "source": [
        "df1=pd.DataFrame(qs1_array, index=qs_data.index)\n",
        "df2=pd.DataFrame(qs2_array, index=qs_data.index)\n",
        "temp_data=pd.concat([df1, df2], axis=1)"
      ],
      "metadata": {
        "id": "LP3E_ZZJqszp"
      },
      "execution_count": null,
      "outputs": []
    },
    {
      "cell_type": "code",
      "source": [
        "print(\"The shape of the temporary dataset is : \\n \")\n",
        "temp_data.shape"
      ],
      "metadata": {
        "colab": {
          "base_uri": "https://localhost:8080/"
        },
        "id": "myjy4CMaqswe",
        "outputId": "85d84d5e-44c9-4e39-bb31-da0e58cb30aa"
      },
      "execution_count": null,
      "outputs": [
        {
          "output_type": "stream",
          "name": "stdout",
          "text": [
            "The shape of the temporary dataset is : \n",
            " \n"
          ]
        },
        {
          "output_type": "execute_result",
          "data": {
            "text/plain": [
              "(30000, 6000)"
            ]
          },
          "metadata": {},
          "execution_count": 58
        }
      ]
    },
    {
      "cell_type": "code",
      "source": [
        "final_data=pd.concat([num_data,temp_data], axis=1)"
      ],
      "metadata": {
        "id": "wqqHMIZaqsuH"
      },
      "execution_count": null,
      "outputs": []
    },
    {
      "cell_type": "code",
      "source": [
        "print(\"The final dataset is given by: \\n\")\n",
        "\n",
        "final_data.head()"
      ],
      "metadata": {
        "colab": {
          "base_uri": "https://localhost:8080/",
          "height": 270
        },
        "id": "KdKa3DJrqsrH",
        "outputId": "32fc47db-b96b-4e01-bade-9ed7f5cafe47"
      },
      "execution_count": null,
      "outputs": [
        {
          "output_type": "stream",
          "name": "stdout",
          "text": [
            "The final dataset is given by: \n",
            "\n"
          ]
        },
        {
          "output_type": "execute_result",
          "data": {
            "text/plain": [
              "        is_duplicate  qs1_len  qs2_len  qs1_num_words  qs2_num_words  \\\n",
              "398782             1       76       77             12             12   \n",
              "115086             0       49       57             12             15   \n",
              "327711             0      105      120             25             17   \n",
              "367788             0       59      146             12             30   \n",
              "151235             0       35       50              5              9   \n",
              "\n",
              "        word_common  word_total  word_share  0  1  ...  2990  2991  2992  \\\n",
              "398782           11          24        0.46  0  0  ...     0     0     0   \n",
              "115086            7          23        0.30  0  0  ...     0     0     0   \n",
              "327711            2          34        0.06  0  0  ...     0     0     0   \n",
              "367788            0          32        0.00  0  0  ...     0     0     0   \n",
              "151235            3          13        0.23  0  0  ...     0     0     0   \n",
              "\n",
              "        2993  2994  2995  2996  2997  2998  2999  \n",
              "398782     0     0     0     0     0     0     0  \n",
              "115086     0     0     0     0     0     0     0  \n",
              "327711     0     0     0     0     0     0     0  \n",
              "367788     1     0     0     0     0     0     0  \n",
              "151235     0     0     0     0     0     0     0  \n",
              "\n",
              "[5 rows x 6008 columns]"
            ],
            "text/html": [
              "\n",
              "  <div id=\"df-a2c2d593-e2c6-4326-97d0-a1dba4a1c55f\">\n",
              "    <div class=\"colab-df-container\">\n",
              "      <div>\n",
              "<style scoped>\n",
              "    .dataframe tbody tr th:only-of-type {\n",
              "        vertical-align: middle;\n",
              "    }\n",
              "\n",
              "    .dataframe tbody tr th {\n",
              "        vertical-align: top;\n",
              "    }\n",
              "\n",
              "    .dataframe thead th {\n",
              "        text-align: right;\n",
              "    }\n",
              "</style>\n",
              "<table border=\"1\" class=\"dataframe\">\n",
              "  <thead>\n",
              "    <tr style=\"text-align: right;\">\n",
              "      <th></th>\n",
              "      <th>is_duplicate</th>\n",
              "      <th>qs1_len</th>\n",
              "      <th>qs2_len</th>\n",
              "      <th>qs1_num_words</th>\n",
              "      <th>qs2_num_words</th>\n",
              "      <th>word_common</th>\n",
              "      <th>word_total</th>\n",
              "      <th>word_share</th>\n",
              "      <th>0</th>\n",
              "      <th>1</th>\n",
              "      <th>...</th>\n",
              "      <th>2990</th>\n",
              "      <th>2991</th>\n",
              "      <th>2992</th>\n",
              "      <th>2993</th>\n",
              "      <th>2994</th>\n",
              "      <th>2995</th>\n",
              "      <th>2996</th>\n",
              "      <th>2997</th>\n",
              "      <th>2998</th>\n",
              "      <th>2999</th>\n",
              "    </tr>\n",
              "  </thead>\n",
              "  <tbody>\n",
              "    <tr>\n",
              "      <th>398782</th>\n",
              "      <td>1</td>\n",
              "      <td>76</td>\n",
              "      <td>77</td>\n",
              "      <td>12</td>\n",
              "      <td>12</td>\n",
              "      <td>11</td>\n",
              "      <td>24</td>\n",
              "      <td>0.46</td>\n",
              "      <td>0</td>\n",
              "      <td>0</td>\n",
              "      <td>...</td>\n",
              "      <td>0</td>\n",
              "      <td>0</td>\n",
              "      <td>0</td>\n",
              "      <td>0</td>\n",
              "      <td>0</td>\n",
              "      <td>0</td>\n",
              "      <td>0</td>\n",
              "      <td>0</td>\n",
              "      <td>0</td>\n",
              "      <td>0</td>\n",
              "    </tr>\n",
              "    <tr>\n",
              "      <th>115086</th>\n",
              "      <td>0</td>\n",
              "      <td>49</td>\n",
              "      <td>57</td>\n",
              "      <td>12</td>\n",
              "      <td>15</td>\n",
              "      <td>7</td>\n",
              "      <td>23</td>\n",
              "      <td>0.30</td>\n",
              "      <td>0</td>\n",
              "      <td>0</td>\n",
              "      <td>...</td>\n",
              "      <td>0</td>\n",
              "      <td>0</td>\n",
              "      <td>0</td>\n",
              "      <td>0</td>\n",
              "      <td>0</td>\n",
              "      <td>0</td>\n",
              "      <td>0</td>\n",
              "      <td>0</td>\n",
              "      <td>0</td>\n",
              "      <td>0</td>\n",
              "    </tr>\n",
              "    <tr>\n",
              "      <th>327711</th>\n",
              "      <td>0</td>\n",
              "      <td>105</td>\n",
              "      <td>120</td>\n",
              "      <td>25</td>\n",
              "      <td>17</td>\n",
              "      <td>2</td>\n",
              "      <td>34</td>\n",
              "      <td>0.06</td>\n",
              "      <td>0</td>\n",
              "      <td>0</td>\n",
              "      <td>...</td>\n",
              "      <td>0</td>\n",
              "      <td>0</td>\n",
              "      <td>0</td>\n",
              "      <td>0</td>\n",
              "      <td>0</td>\n",
              "      <td>0</td>\n",
              "      <td>0</td>\n",
              "      <td>0</td>\n",
              "      <td>0</td>\n",
              "      <td>0</td>\n",
              "    </tr>\n",
              "    <tr>\n",
              "      <th>367788</th>\n",
              "      <td>0</td>\n",
              "      <td>59</td>\n",
              "      <td>146</td>\n",
              "      <td>12</td>\n",
              "      <td>30</td>\n",
              "      <td>0</td>\n",
              "      <td>32</td>\n",
              "      <td>0.00</td>\n",
              "      <td>0</td>\n",
              "      <td>0</td>\n",
              "      <td>...</td>\n",
              "      <td>0</td>\n",
              "      <td>0</td>\n",
              "      <td>0</td>\n",
              "      <td>1</td>\n",
              "      <td>0</td>\n",
              "      <td>0</td>\n",
              "      <td>0</td>\n",
              "      <td>0</td>\n",
              "      <td>0</td>\n",
              "      <td>0</td>\n",
              "    </tr>\n",
              "    <tr>\n",
              "      <th>151235</th>\n",
              "      <td>0</td>\n",
              "      <td>35</td>\n",
              "      <td>50</td>\n",
              "      <td>5</td>\n",
              "      <td>9</td>\n",
              "      <td>3</td>\n",
              "      <td>13</td>\n",
              "      <td>0.23</td>\n",
              "      <td>0</td>\n",
              "      <td>0</td>\n",
              "      <td>...</td>\n",
              "      <td>0</td>\n",
              "      <td>0</td>\n",
              "      <td>0</td>\n",
              "      <td>0</td>\n",
              "      <td>0</td>\n",
              "      <td>0</td>\n",
              "      <td>0</td>\n",
              "      <td>0</td>\n",
              "      <td>0</td>\n",
              "      <td>0</td>\n",
              "    </tr>\n",
              "  </tbody>\n",
              "</table>\n",
              "<p>5 rows × 6008 columns</p>\n",
              "</div>\n",
              "      <button class=\"colab-df-convert\" onclick=\"convertToInteractive('df-a2c2d593-e2c6-4326-97d0-a1dba4a1c55f')\"\n",
              "              title=\"Convert this dataframe to an interactive table.\"\n",
              "              style=\"display:none;\">\n",
              "        \n",
              "  <svg xmlns=\"http://www.w3.org/2000/svg\" height=\"24px\"viewBox=\"0 0 24 24\"\n",
              "       width=\"24px\">\n",
              "    <path d=\"M0 0h24v24H0V0z\" fill=\"none\"/>\n",
              "    <path d=\"M18.56 5.44l.94 2.06.94-2.06 2.06-.94-2.06-.94-.94-2.06-.94 2.06-2.06.94zm-11 1L8.5 8.5l.94-2.06 2.06-.94-2.06-.94L8.5 2.5l-.94 2.06-2.06.94zm10 10l.94 2.06.94-2.06 2.06-.94-2.06-.94-.94-2.06-.94 2.06-2.06.94z\"/><path d=\"M17.41 7.96l-1.37-1.37c-.4-.4-.92-.59-1.43-.59-.52 0-1.04.2-1.43.59L10.3 9.45l-7.72 7.72c-.78.78-.78 2.05 0 2.83L4 21.41c.39.39.9.59 1.41.59.51 0 1.02-.2 1.41-.59l7.78-7.78 2.81-2.81c.8-.78.8-2.07 0-2.86zM5.41 20L4 18.59l7.72-7.72 1.47 1.35L5.41 20z\"/>\n",
              "  </svg>\n",
              "      </button>\n",
              "      \n",
              "  <style>\n",
              "    .colab-df-container {\n",
              "      display:flex;\n",
              "      flex-wrap:wrap;\n",
              "      gap: 12px;\n",
              "    }\n",
              "\n",
              "    .colab-df-convert {\n",
              "      background-color: #E8F0FE;\n",
              "      border: none;\n",
              "      border-radius: 50%;\n",
              "      cursor: pointer;\n",
              "      display: none;\n",
              "      fill: #1967D2;\n",
              "      height: 32px;\n",
              "      padding: 0 0 0 0;\n",
              "      width: 32px;\n",
              "    }\n",
              "\n",
              "    .colab-df-convert:hover {\n",
              "      background-color: #E2EBFA;\n",
              "      box-shadow: 0px 1px 2px rgba(60, 64, 67, 0.3), 0px 1px 3px 1px rgba(60, 64, 67, 0.15);\n",
              "      fill: #174EA6;\n",
              "    }\n",
              "\n",
              "    [theme=dark] .colab-df-convert {\n",
              "      background-color: #3B4455;\n",
              "      fill: #D2E3FC;\n",
              "    }\n",
              "\n",
              "    [theme=dark] .colab-df-convert:hover {\n",
              "      background-color: #434B5C;\n",
              "      box-shadow: 0px 1px 3px 1px rgba(0, 0, 0, 0.15);\n",
              "      filter: drop-shadow(0px 1px 2px rgba(0, 0, 0, 0.3));\n",
              "      fill: #FFFFFF;\n",
              "    }\n",
              "  </style>\n",
              "\n",
              "      <script>\n",
              "        const buttonEl =\n",
              "          document.querySelector('#df-a2c2d593-e2c6-4326-97d0-a1dba4a1c55f button.colab-df-convert');\n",
              "        buttonEl.style.display =\n",
              "          google.colab.kernel.accessAllowed ? 'block' : 'none';\n",
              "\n",
              "        async function convertToInteractive(key) {\n",
              "          const element = document.querySelector('#df-a2c2d593-e2c6-4326-97d0-a1dba4a1c55f');\n",
              "          const dataTable =\n",
              "            await google.colab.kernel.invokeFunction('convertToInteractive',\n",
              "                                                     [key], {});\n",
              "          if (!dataTable) return;\n",
              "\n",
              "          const docLinkHtml = 'Like what you see? Visit the ' +\n",
              "            '<a target=\"_blank\" href=https://colab.research.google.com/notebooks/data_table.ipynb>data table notebook</a>'\n",
              "            + ' to learn more about interactive tables.';\n",
              "          element.innerHTML = '';\n",
              "          dataTable['output_type'] = 'display_data';\n",
              "          await google.colab.output.renderOutput(dataTable, element);\n",
              "          const docLink = document.createElement('div');\n",
              "          docLink.innerHTML = docLinkHtml;\n",
              "          element.appendChild(docLink);\n",
              "        }\n",
              "      </script>\n",
              "    </div>\n",
              "  </div>\n",
              "  "
            ]
          },
          "metadata": {},
          "execution_count": 60
        }
      ]
    },
    {
      "cell_type": "code",
      "source": [
        "print(\"The shape of the final dataset is : \\n \")\n",
        "final_data.shape"
      ],
      "metadata": {
        "colab": {
          "base_uri": "https://localhost:8080/"
        },
        "id": "8yaESE67qsnk",
        "outputId": "6ee0a16b-1960-4574-ec4c-b9ee8221b148"
      },
      "execution_count": null,
      "outputs": [
        {
          "output_type": "stream",
          "name": "stdout",
          "text": [
            "The shape of the final dataset is : \n",
            " \n"
          ]
        },
        {
          "output_type": "execute_result",
          "data": {
            "text/plain": [
              "(30000, 6008)"
            ]
          },
          "metadata": {},
          "execution_count": 61
        }
      ]
    },
    {
      "cell_type": "markdown",
      "source": [
        "## Model fitting And Prediction"
      ],
      "metadata": {
        "id": "eZQ9fLzFCJq9"
      }
    },
    {
      "cell_type": "code",
      "source": [
        "from sklearn.model_selection import train_test_split"
      ],
      "metadata": {
        "id": "kOmuqoZEqshp"
      },
      "execution_count": null,
      "outputs": []
    },
    {
      "cell_type": "code",
      "source": [
        "x= final_data.iloc[:,1:].values  # it will select all rows but the first column will be excluded.\n",
        "y=final_data.iloc[:,0].values    # # it will get column 0 as a SERIES of shape (n,) "
      ],
      "metadata": {
        "id": "97Vx-ykhqsZb"
      },
      "execution_count": null,
      "outputs": []
    },
    {
      "cell_type": "code",
      "source": [
        "X_train,X_test, y_train,y_test= train_test_split(x,y,test_size=0.3, random_state=1)"
      ],
      "metadata": {
        "id": "X057beSeqsQz"
      },
      "execution_count": null,
      "outputs": []
    },
    {
      "cell_type": "code",
      "source": [
        "from sklearn.metrics import accuracy_score\n",
        "from sklearn.metrics import confusion_matrix"
      ],
      "metadata": {
        "id": "6hVhb1uU-JKy"
      },
      "execution_count": null,
      "outputs": []
    },
    {
      "cell_type": "code",
      "source": [
        "from sklearn.metrics import mean_absolute_error,mean_squared_error"
      ],
      "metadata": {
        "id": "UWqib8dmICSO"
      },
      "execution_count": null,
      "outputs": []
    },
    {
      "cell_type": "markdown",
      "source": [
        "## Random Forest Classifier"
      ],
      "metadata": {
        "id": "A5cOl5Jf_ppn"
      }
    },
    {
      "cell_type": "code",
      "source": [
        "from sklearn.ensemble import RandomForestClassifier"
      ],
      "metadata": {
        "id": "QrnThEYr-I-J"
      },
      "execution_count": null,
      "outputs": []
    },
    {
      "cell_type": "code",
      "source": [
        "rnfcl= RandomForestClassifier()\n",
        "rnfcl.fit(X_train, y_train)\n",
        "y_pred=rnfcl.predict(X_test)\n",
        "acc= accuracy_score(y_test, y_pred)\n",
        "print(\"The accuracy score of the random forest classfier is : \",acc)"
      ],
      "metadata": {
        "colab": {
          "base_uri": "https://localhost:8080/"
        },
        "id": "30c1aWYm_o-t",
        "outputId": "7cccba78-d14d-453f-f29b-a4e7c58a20e4"
      },
      "execution_count": null,
      "outputs": [
        {
          "output_type": "stream",
          "name": "stdout",
          "text": [
            "The accuracy score of the random forest classfier is :  0.7682222222222223\n"
          ]
        }
      ]
    },
    {
      "cell_type": "code",
      "source": [
        "cnm=confusion_matrix(y_test,y_pred)\n",
        "print(\"The confusion matrix of the random forest classfier is : \\n \")\n",
        "cnm"
      ],
      "metadata": {
        "colab": {
          "base_uri": "https://localhost:8080/"
        },
        "id": "I7-wbm7RA4w2",
        "outputId": "f9cd440a-b588-47a1-a296-2b8a00585fc9"
      },
      "execution_count": null,
      "outputs": [
        {
          "output_type": "stream",
          "name": "stdout",
          "text": [
            "The confusion matrix of the random forest classfier is : \n",
            " \n"
          ]
        },
        {
          "output_type": "execute_result",
          "data": {
            "text/plain": [
              "array([[5061,  629],\n",
              "       [1457, 1853]])"
            ]
          },
          "metadata": {},
          "execution_count": 68
        }
      ]
    },
    {
      "cell_type": "code",
      "source": [
        "plt.figure(figsize=(8,5))\n",
        "\n",
        "sns.distplot(y_test, \n",
        "             label=\"y_test\",\n",
        "             color=\"limegreen\")\n",
        "\n",
        "sns.distplot(y_pred, \n",
        "             label=\"y_pred\",\n",
        "             color=\"midnightblue\")\n",
        "\n",
        "plt.legend()\n",
        "\n",
        "plt.title(\"Distribution of  y_test and y_pred for Random Forest Classifier\" ,\n",
        "          size= 20,\n",
        "          color=\"Maroon\"\n",
        "         )\n",
        "\n",
        "\n",
        "\n",
        "plt.show()       "
      ],
      "metadata": {
        "colab": {
          "base_uri": "https://localhost:8080/",
          "height": 341
        },
        "id": "_-11tXM0EEpe",
        "outputId": "957716ce-9b75-4e28-f5e6-0772b14ce92b"
      },
      "execution_count": null,
      "outputs": [
        {
          "output_type": "display_data",
          "data": {
            "text/plain": [
              "<Figure size 576x360 with 1 Axes>"
            ],
            "image/png": "[encoded data removed]"
          },
          "metadata": {
            "needs_background": "light"
          }
        }
      ]
    },
    {
      "cell_type": "code",
      "source": [
        "sample = pd.DataFrame(y_pred,columns=['Predict'])\n",
        "sample['Actual']=y_test\n",
        "sample.head(10)"
      ],
      "metadata": {
        "colab": {
          "base_uri": "https://localhost:8080/",
          "height": 363
        },
        "id": "rjNtemk-Dcih",
        "outputId": "1176cac5-04fb-4f05-d2b3-5d49591debb5"
      },
      "execution_count": null,
      "outputs": [
        {
          "output_type": "execute_result",
          "data": {
            "text/plain": [
              "   Predict  Actual\n",
              "0        0       0\n",
              "1        0       1\n",
              "2        1       0\n",
              "3        0       0\n",
              "4        0       0\n",
              "5        0       0\n",
              "6        1       1\n",
              "7        0       0\n",
              "8        0       0\n",
              "9        0       1"
            ],
            "text/html": [
              "\n",
              "  <div id=\"df-c177400a-8aa2-47e2-9932-67e9e0582ddc\">\n",
              "    <div class=\"colab-df-container\">\n",
              "      <div>\n",
              "<style scoped>\n",
              "    .dataframe tbody tr th:only-of-type {\n",
              "        vertical-align: middle;\n",
              "    }\n",
              "\n",
              "    .dataframe tbody tr th {\n",
              "        vertical-align: top;\n",
              "    }\n",
              "\n",
              "    .dataframe thead th {\n",
              "        text-align: right;\n",
              "    }\n",
              "</style>\n",
              "<table border=\"1\" class=\"dataframe\">\n",
              "  <thead>\n",
              "    <tr style=\"text-align: right;\">\n",
              "      <th></th>\n",
              "      <th>Predict</th>\n",
              "      <th>Actual</th>\n",
              "    </tr>\n",
              "  </thead>\n",
              "  <tbody>\n",
              "    <tr>\n",
              "      <th>0</th>\n",
              "      <td>0</td>\n",
              "      <td>0</td>\n",
              "    </tr>\n",
              "    <tr>\n",
              "      <th>1</th>\n",
              "      <td>0</td>\n",
              "      <td>1</td>\n",
              "    </tr>\n",
              "    <tr>\n",
              "      <th>2</th>\n",
              "      <td>1</td>\n",
              "      <td>0</td>\n",
              "    </tr>\n",
              "    <tr>\n",
              "      <th>3</th>\n",
              "      <td>0</td>\n",
              "      <td>0</td>\n",
              "    </tr>\n",
              "    <tr>\n",
              "      <th>4</th>\n",
              "      <td>0</td>\n",
              "      <td>0</td>\n",
              "    </tr>\n",
              "    <tr>\n",
              "      <th>5</th>\n",
              "      <td>0</td>\n",
              "      <td>0</td>\n",
              "    </tr>\n",
              "    <tr>\n",
              "      <th>6</th>\n",
              "      <td>1</td>\n",
              "      <td>1</td>\n",
              "    </tr>\n",
              "    <tr>\n",
              "      <th>7</th>\n",
              "      <td>0</td>\n",
              "      <td>0</td>\n",
              "    </tr>\n",
              "    <tr>\n",
              "      <th>8</th>\n",
              "      <td>0</td>\n",
              "      <td>0</td>\n",
              "    </tr>\n",
              "    <tr>\n",
              "      <th>9</th>\n",
              "      <td>0</td>\n",
              "      <td>1</td>\n",
              "    </tr>\n",
              "  </tbody>\n",
              "</table>\n",
              "</div>\n",
              "      <button class=\"colab-df-convert\" onclick=\"convertToInteractive('df-c177400a-8aa2-47e2-9932-67e9e0582ddc')\"\n",
              "              title=\"Convert this dataframe to an interactive table.\"\n",
              "              style=\"display:none;\">\n",
              "        \n",
              "  <svg xmlns=\"http://www.w3.org/2000/svg\" height=\"24px\"viewBox=\"0 0 24 24\"\n",
              "       width=\"24px\">\n",
              "    <path d=\"M0 0h24v24H0V0z\" fill=\"none\"/>\n",
              "    <path d=\"M18.56 5.44l.94 2.06.94-2.06 2.06-.94-2.06-.94-.94-2.06-.94 2.06-2.06.94zm-11 1L8.5 8.5l.94-2.06 2.06-.94-2.06-.94L8.5 2.5l-.94 2.06-2.06.94zm10 10l.94 2.06.94-2.06 2.06-.94-2.06-.94-.94-2.06-.94 2.06-2.06.94z\"/><path d=\"M17.41 7.96l-1.37-1.37c-.4-.4-.92-.59-1.43-.59-.52 0-1.04.2-1.43.59L10.3 9.45l-7.72 7.72c-.78.78-.78 2.05 0 2.83L4 21.41c.39.39.9.59 1.41.59.51 0 1.02-.2 1.41-.59l7.78-7.78 2.81-2.81c.8-.78.8-2.07 0-2.86zM5.41 20L4 18.59l7.72-7.72 1.47 1.35L5.41 20z\"/>\n",
              "  </svg>\n",
              "      </button>\n",
              "      \n",
              "  <style>\n",
              "    .colab-df-container {\n",
              "      display:flex;\n",
              "      flex-wrap:wrap;\n",
              "      gap: 12px;\n",
              "    }\n",
              "\n",
              "    .colab-df-convert {\n",
              "      background-color: #E8F0FE;\n",
              "      border: none;\n",
              "      border-radius: 50%;\n",
              "      cursor: pointer;\n",
              "      display: none;\n",
              "      fill: #1967D2;\n",
              "      height: 32px;\n",
              "      padding: 0 0 0 0;\n",
              "      width: 32px;\n",
              "    }\n",
              "\n",
              "    .colab-df-convert:hover {\n",
              "      background-color: #E2EBFA;\n",
              "      box-shadow: 0px 1px 2px rgba(60, 64, 67, 0.3), 0px 1px 3px 1px rgba(60, 64, 67, 0.15);\n",
              "      fill: #174EA6;\n",
              "    }\n",
              "\n",
              "    [theme=dark] .colab-df-convert {\n",
              "      background-color: #3B4455;\n",
              "      fill: #D2E3FC;\n",
              "    }\n",
              "\n",
              "    [theme=dark] .colab-df-convert:hover {\n",
              "      background-color: #434B5C;\n",
              "      box-shadow: 0px 1px 3px 1px rgba(0, 0, 0, 0.15);\n",
              "      filter: drop-shadow(0px 1px 2px rgba(0, 0, 0, 0.3));\n",
              "      fill: #FFFFFF;\n",
              "    }\n",
              "  </style>\n",
              "\n",
              "      <script>\n",
              "        const buttonEl =\n",
              "          document.querySelector('#df-c177400a-8aa2-47e2-9932-67e9e0582ddc button.colab-df-convert');\n",
              "        buttonEl.style.display =\n",
              "          google.colab.kernel.accessAllowed ? 'block' : 'none';\n",
              "\n",
              "        async function convertToInteractive(key) {\n",
              "          const element = document.querySelector('#df-c177400a-8aa2-47e2-9932-67e9e0582ddc');\n",
              "          const dataTable =\n",
              "            await google.colab.kernel.invokeFunction('convertToInteractive',\n",
              "                                                     [key], {});\n",
              "          if (!dataTable) return;\n",
              "\n",
              "          const docLinkHtml = 'Like what you see? Visit the ' +\n",
              "            '<a target=\"_blank\" href=https://colab.research.google.com/notebooks/data_table.ipynb>data table notebook</a>'\n",
              "            + ' to learn more about interactive tables.';\n",
              "          element.innerHTML = '';\n",
              "          dataTable['output_type'] = 'display_data';\n",
              "          await google.colab.output.renderOutput(dataTable, element);\n",
              "          const docLink = document.createElement('div');\n",
              "          docLink.innerHTML = docLinkHtml;\n",
              "          element.appendChild(docLink);\n",
              "        }\n",
              "      </script>\n",
              "    </div>\n",
              "  </div>\n",
              "  "
            ]
          },
          "metadata": {},
          "execution_count": 70
        }
      ]
    },
    {
      "cell_type": "code",
      "source": [
        "\n",
        "\n",
        "mean_absolute_error(y_test,y_pred)\n"
      ],
      "metadata": {
        "colab": {
          "base_uri": "https://localhost:8080/"
        },
        "id": "v9M6Z8q4A4ry",
        "outputId": "f14a46fc-42e9-4384-ebb8-b8c3cb33d8a2"
      },
      "execution_count": null,
      "outputs": [
        {
          "output_type": "execute_result",
          "data": {
            "text/plain": [
              "0.23177777777777778"
            ]
          },
          "metadata": {},
          "execution_count": 71
        }
      ]
    },
    {
      "cell_type": "code",
      "source": [
        "np.sqrt(mean_squared_error(y_test,y_pred))"
      ],
      "metadata": {
        "colab": {
          "base_uri": "https://localhost:8080/"
        },
        "id": "sFAOxFhsA4jf",
        "outputId": "15ce45fa-5eb4-409e-ac25-9d08fc7f0fa0"
      },
      "execution_count": null,
      "outputs": [
        {
          "output_type": "execute_result",
          "data": {
            "text/plain": [
              "0.48143304599682163"
            ]
          },
          "metadata": {},
          "execution_count": 72
        }
      ]
    },
    {
      "cell_type": "markdown",
      "source": [
        "## XGB Classifier"
      ],
      "metadata": {
        "id": "-Ah8gWlwEmPv"
      }
    },
    {
      "cell_type": "code",
      "source": [
        "from xgboost import XGBClassifier"
      ],
      "metadata": {
        "id": "8pNk05YqFdR9"
      },
      "execution_count": null,
      "outputs": []
    },
    {
      "cell_type": "code",
      "source": [
        "xgbcl= XGBClassifier()\n",
        "xgbcl.fit(X_train, y_train)\n",
        "y_pred1=xgbcl.predict(X_test)\n",
        "acc1= accuracy_score(y_test, y_pred1)\n",
        "print(\"The accuracy score of the XGB classfier is : \",acc1)"
      ],
      "metadata": {
        "colab": {
          "base_uri": "https://localhost:8080/"
        },
        "id": "A9kTtBb8FOx0",
        "outputId": "614f4595-3762-4c77-f673-f29795ad24ef"
      },
      "execution_count": null,
      "outputs": [
        {
          "output_type": "stream",
          "name": "stdout",
          "text": [
            "The accuracy score of the XGB classfier is :  0.7355555555555555\n"
          ]
        }
      ]
    },
    {
      "cell_type": "code",
      "source": [
        "cnm1=confusion_matrix(y_test,y_pred)\n",
        "print(\"The confusion matrix of the random forest classfier is : \\n \")\n",
        "cnm1"
      ],
      "metadata": {
        "colab": {
          "base_uri": "https://localhost:8080/"
        },
        "id": "QR85-pglGyan",
        "outputId": "65ce76e1-d584-4535-82d8-bd657dcd0ea8"
      },
      "execution_count": null,
      "outputs": [
        {
          "output_type": "stream",
          "name": "stdout",
          "text": [
            "The confusion matrix of the random forest classfier is : \n",
            " \n"
          ]
        },
        {
          "output_type": "execute_result",
          "data": {
            "text/plain": [
              "array([[5061,  629],\n",
              "       [1457, 1853]])"
            ]
          },
          "metadata": {},
          "execution_count": 75
        }
      ]
    },
    {
      "cell_type": "code",
      "source": [
        "plt.figure(figsize=(8,5))\n",
        "\n",
        "sns.distplot(y_test, \n",
        "             label=\"y_test\",\n",
        "             color=\"limegreen\")\n",
        "\n",
        "sns.distplot(y_pred, \n",
        "             label=\"y_pred1\",\n",
        "             color=\"midnightblue\")\n",
        "\n",
        "plt.legend()\n",
        "\n",
        "plt.title(\"Distribution of  y_test and y_pred1 for XGBClassifier\" ,\n",
        "          size= 20,\n",
        "          color=\"Maroon\"\n",
        "         )\n",
        "\n",
        "\n",
        "\n",
        "plt.show()     "
      ],
      "metadata": {
        "colab": {
          "base_uri": "https://localhost:8080/",
          "height": 341
        },
        "id": "8DGBSiRzGyXM",
        "outputId": "cfcd7999-0f38-47c5-9e74-3f5dbce56e5f"
      },
      "execution_count": null,
      "outputs": [
        {
          "output_type": "display_data",
          "data": {
            "text/plain": [
              "<Figure size 576x360 with 1 Axes>"
            ],
            "image/png": "[encoded data removed]"
          },
          "metadata": {
            "needs_background": "light"
          }
        }
      ]
    },
    {
      "cell_type": "code",
      "source": [
        "sample = pd.DataFrame(y_pred1,columns=['Predict'])\n",
        "sample['Actual']=y_test\n",
        "sample.head(10)"
      ],
      "metadata": {
        "colab": {
          "base_uri": "https://localhost:8080/",
          "height": 363
        },
        "id": "VMkV_WUWGyTd",
        "outputId": "537be21a-927f-4794-e32f-7cea6e43adf2"
      },
      "execution_count": null,
      "outputs": [
        {
          "output_type": "execute_result",
          "data": {
            "text/plain": [
              "   Predict  Actual\n",
              "0        1       0\n",
              "1        0       1\n",
              "2        1       0\n",
              "3        0       0\n",
              "4        0       0\n",
              "5        0       0\n",
              "6        1       1\n",
              "7        0       0\n",
              "8        1       0\n",
              "9        0       1"
            ],
            "text/html": [
              "\n",
              "  <div id=\"df-68da54a6-4f42-4a2f-976c-3242e88dadd7\">\n",
              "    <div class=\"colab-df-container\">\n",
              "      <div>\n",
              "<style scoped>\n",
              "    .dataframe tbody tr th:only-of-type {\n",
              "        vertical-align: middle;\n",
              "    }\n",
              "\n",
              "    .dataframe tbody tr th {\n",
              "        vertical-align: top;\n",
              "    }\n",
              "\n",
              "    .dataframe thead th {\n",
              "        text-align: right;\n",
              "    }\n",
              "</style>\n",
              "<table border=\"1\" class=\"dataframe\">\n",
              "  <thead>\n",
              "    <tr style=\"text-align: right;\">\n",
              "      <th></th>\n",
              "      <th>Predict</th>\n",
              "      <th>Actual</th>\n",
              "    </tr>\n",
              "  </thead>\n",
              "  <tbody>\n",
              "    <tr>\n",
              "      <th>0</th>\n",
              "      <td>1</td>\n",
              "      <td>0</td>\n",
              "    </tr>\n",
              "    <tr>\n",
              "      <th>1</th>\n",
              "      <td>0</td>\n",
              "      <td>1</td>\n",
              "    </tr>\n",
              "    <tr>\n",
              "      <th>2</th>\n",
              "      <td>1</td>\n",
              "      <td>0</td>\n",
              "    </tr>\n",
              "    <tr>\n",
              "      <th>3</th>\n",
              "      <td>0</td>\n",
              "      <td>0</td>\n",
              "    </tr>\n",
              "    <tr>\n",
              "      <th>4</th>\n",
              "      <td>0</td>\n",
              "      <td>0</td>\n",
              "    </tr>\n",
              "    <tr>\n",
              "      <th>5</th>\n",
              "      <td>0</td>\n",
              "      <td>0</td>\n",
              "    </tr>\n",
              "    <tr>\n",
              "      <th>6</th>\n",
              "      <td>1</td>\n",
              "      <td>1</td>\n",
              "    </tr>\n",
              "    <tr>\n",
              "      <th>7</th>\n",
              "      <td>0</td>\n",
              "      <td>0</td>\n",
              "    </tr>\n",
              "    <tr>\n",
              "      <th>8</th>\n",
              "      <td>1</td>\n",
              "      <td>0</td>\n",
              "    </tr>\n",
              "    <tr>\n",
              "      <th>9</th>\n",
              "      <td>0</td>\n",
              "      <td>1</td>\n",
              "    </tr>\n",
              "  </tbody>\n",
              "</table>\n",
              "</div>\n",
              "      <button class=\"colab-df-convert\" onclick=\"convertToInteractive('df-68da54a6-4f42-4a2f-976c-3242e88dadd7')\"\n",
              "              title=\"Convert this dataframe to an interactive table.\"\n",
              "              style=\"display:none;\">\n",
              "        \n",
              "  <svg xmlns=\"http://www.w3.org/2000/svg\" height=\"24px\"viewBox=\"0 0 24 24\"\n",
              "       width=\"24px\">\n",
              "    <path d=\"M0 0h24v24H0V0z\" fill=\"none\"/>\n",
              "    <path d=\"M18.56 5.44l.94 2.06.94-2.06 2.06-.94-2.06-.94-.94-2.06-.94 2.06-2.06.94zm-11 1L8.5 8.5l.94-2.06 2.06-.94-2.06-.94L8.5 2.5l-.94 2.06-2.06.94zm10 10l.94 2.06.94-2.06 2.06-.94-2.06-.94-.94-2.06-.94 2.06-2.06.94z\"/><path d=\"M17.41 7.96l-1.37-1.37c-.4-.4-.92-.59-1.43-.59-.52 0-1.04.2-1.43.59L10.3 9.45l-7.72 7.72c-.78.78-.78 2.05 0 2.83L4 21.41c.39.39.9.59 1.41.59.51 0 1.02-.2 1.41-.59l7.78-7.78 2.81-2.81c.8-.78.8-2.07 0-2.86zM5.41 20L4 18.59l7.72-7.72 1.47 1.35L5.41 20z\"/>\n",
              "  </svg>\n",
              "      </button>\n",
              "      \n",
              "  <style>\n",
              "    .colab-df-container {\n",
              "      display:flex;\n",
              "      flex-wrap:wrap;\n",
              "      gap: 12px;\n",
              "    }\n",
              "\n",
              "    .colab-df-convert {\n",
              "      background-color: #E8F0FE;\n",
              "      border: none;\n",
              "      border-radius: 50%;\n",
              "      cursor: pointer;\n",
              "      display: none;\n",
              "      fill: #1967D2;\n",
              "      height: 32px;\n",
              "      padding: 0 0 0 0;\n",
              "      width: 32px;\n",
              "    }\n",
              "\n",
              "    .colab-df-convert:hover {\n",
              "      background-color: #E2EBFA;\n",
              "      box-shadow: 0px 1px 2px rgba(60, 64, 67, 0.3), 0px 1px 3px 1px rgba(60, 64, 67, 0.15);\n",
              "      fill: #174EA6;\n",
              "    }\n",
              "\n",
              "    [theme=dark] .colab-df-convert {\n",
              "      background-color: #3B4455;\n",
              "      fill: #D2E3FC;\n",
              "    }\n",
              "\n",
              "    [theme=dark] .colab-df-convert:hover {\n",
              "      background-color: #434B5C;\n",
              "      box-shadow: 0px 1px 3px 1px rgba(0, 0, 0, 0.15);\n",
              "      filter: drop-shadow(0px 1px 2px rgba(0, 0, 0, 0.3));\n",
              "      fill: #FFFFFF;\n",
              "    }\n",
              "  </style>\n",
              "\n",
              "      <script>\n",
              "        const buttonEl =\n",
              "          document.querySelector('#df-68da54a6-4f42-4a2f-976c-3242e88dadd7 button.colab-df-convert');\n",
              "        buttonEl.style.display =\n",
              "          google.colab.kernel.accessAllowed ? 'block' : 'none';\n",
              "\n",
              "        async function convertToInteractive(key) {\n",
              "          const element = document.querySelector('#df-68da54a6-4f42-4a2f-976c-3242e88dadd7');\n",
              "          const dataTable =\n",
              "            await google.colab.kernel.invokeFunction('convertToInteractive',\n",
              "                                                     [key], {});\n",
              "          if (!dataTable) return;\n",
              "\n",
              "          const docLinkHtml = 'Like what you see? Visit the ' +\n",
              "            '<a target=\"_blank\" href=https://colab.research.google.com/notebooks/data_table.ipynb>data table notebook</a>'\n",
              "            + ' to learn more about interactive tables.';\n",
              "          element.innerHTML = '';\n",
              "          dataTable['output_type'] = 'display_data';\n",
              "          await google.colab.output.renderOutput(dataTable, element);\n",
              "          const docLink = document.createElement('div');\n",
              "          docLink.innerHTML = docLinkHtml;\n",
              "          element.appendChild(docLink);\n",
              "        }\n",
              "      </script>\n",
              "    </div>\n",
              "  </div>\n",
              "  "
            ]
          },
          "metadata": {},
          "execution_count": 77
        }
      ]
    },
    {
      "cell_type": "code",
      "source": [
        "mean_absolute_error(y_test,y_pred1)"
      ],
      "metadata": {
        "colab": {
          "base_uri": "https://localhost:8080/"
        },
        "id": "QcJhhq2HGyP3",
        "outputId": "05f7054e-cbb1-4c98-c29e-953f6ef75e67"
      },
      "execution_count": null,
      "outputs": [
        {
          "output_type": "execute_result",
          "data": {
            "text/plain": [
              "0.2644444444444444"
            ]
          },
          "metadata": {},
          "execution_count": 78
        }
      ]
    },
    {
      "cell_type": "code",
      "source": [
        "np.sqrt(mean_squared_error(y_test,y_pred1))"
      ],
      "metadata": {
        "colab": {
          "base_uri": "https://localhost:8080/"
        },
        "id": "6l94nZB8GyOC",
        "outputId": "b3c6e341-3949-463f-cfa2-a8b44face043"
      },
      "execution_count": null,
      "outputs": [
        {
          "output_type": "execute_result",
          "data": {
            "text/plain": [
              "0.514241620684717"
            ]
          },
          "metadata": {},
          "execution_count": 79
        }
      ]
    },
    {
      "cell_type": "markdown",
      "source": [
        "#### From the above calculations we can see that the accuracy rate of Random Forest Classifier is 0.7682222222222223 and the accuracy rate of XGBClassifier is 0.7355555555555555. Therefore it is clear that the Random Forest Classifier  gives the  better accuracy rate than XGBClassifier. Therefore Random Forest Classfier is the better choice for this dataset. "
      ],
      "metadata": {
        "id": "aRpClbGAJlDN"
      }
    }
  ]
}